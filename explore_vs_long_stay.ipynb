{
 "cells": [
  {
   "cell_type": "markdown",
   "metadata": {
    "id": "Em9ao90SakWk"
   },
   "source": [
    "Welcome to Luveri, an app supporting couples' love. The appstore link is: https://www.luveri.org/\n",
    "\n",
    " "
   ]
  },
  {
   "cell_type": "markdown",
   "metadata": {
    "id": "qOuS2RlUtKHF"
   },
   "source": [
    "In this small project, I want to explore how users' explorations of the app can affect their life-time value, which should be correponding to how long/how many days they stay in the app. We put the assumption that user has 3 days to explore the features in the app, or 3 days is the duration for the user to explore"
   ]
  },
  {
   "cell_type": "code",
   "execution_count": 1,
   "metadata": {
    "colab": {
     "base_uri": "https://localhost:8080/"
    },
    "id": "9tpYhH6oZng4",
    "outputId": "cecc3f1c-df6d-4c6c-bf46-6d317cebbc9f"
   },
   "outputs": [
    {
     "name": "stdout",
     "output_type": "stream",
     "text": [
      "Drive already mounted at /content/gdrive/; to attempt to forcibly remount, call drive.mount(\"/content/gdrive/\", force_remount=True).\n"
     ]
    }
   ],
   "source": [
    "# Do some colab mount and import packages\n",
    "from google.colab import drive\n",
    "drive.mount('/content/gdrive/')\n",
    "\n",
    "import sys\n",
    "sys.path.append('/content/gdrive/My Drive/datahouse')\n",
    "import os\n",
    "os.chdir('/content/gdrive/My Drive/datahouse')\n",
    "\n",
    "import numpy as np\n",
    "\n",
    "import pandas as pd\n",
    "import datetime\n",
    "\n",
    "import dask.dataframe as dd"
   ]
  },
  {
   "cell_type": "markdown",
   "metadata": {
    "id": "2mIStJfFci7P"
   },
   "source": [
    "Read files and import data. The data will have 5 columns: the timestamp of the event event_timestamp, the user_id, the feature they use, the total time they spend on that feature, the day they use that feature. \n",
    "In addition, we also replace the sub-features into main features, as following."
   ]
  },
  {
   "cell_type": "markdown",
   "metadata": {
    "id": "SbGltrb8ut-Y"
   },
   "source": [
    "In the app, there are 10 main features, which are: /WatchPalyerPageRoute, Chat, Gallery, Timeline, CreateMemory, Tink, HomePage, Note, Voice, Map"
   ]
  },
  {
   "cell_type": "code",
   "execution_count": 2,
   "metadata": {
    "id": "0P-99XQqr_0t"
   },
   "outputs": [],
   "source": [
    "replace_feat = {\n",
    "    \n",
    "    '/WatchPlayerPageRoute/Interstitial':'/WatchPlayerPageRoute' ,\n",
    "    '/WatchYoutubeBrowser': '/WatchPlayerPageRoute',\n",
    "    'Watch': '/WatchPlayerPageRoute',\n",
    "    'WatchBanner/BannerAd/PremiumPage': '/WatchPlayerPageRoute',\n",
    "\n",
    "    'Chat/Interstitial': 'Chat',\n",
    "    'ChatMediaView': 'Chat',\n",
    "    'ChatSearchByDate': 'Chat',\n",
    "    'ChatSearchByKeyWord': 'Chat',\n",
    "    'ChatSetting': 'Chat',\n",
    "    'chat_bubble_capture_screen': 'Chat',\n",
    "    'chat_bubble_clicked': 'Chat',\n",
    "    'chat_gif_sent': 'Chat',\n",
    "    'chat_image_sent': 'Chat',\n",
    "    'chat_message_sent': 'Chat',\n",
    "    'chat_on_home_clicked': 'Chat',\n",
    "    'chat_sticker_clicked': 'Chat',\n",
    "\n",
    "    'AddAlbum': 'Gallery',\n",
    "    'EditAlbum': 'Gallery',\n",
    "    'Gallery/Interstitial': 'Gallery',\n",
    "    'GalleryAddMedia': 'Gallery',\n",
    "    'GalleryAddMedia/Interstitial': 'Gallery',\n",
    "    'GalleryAlbum': 'Gallery',\n",
    "    'GalleryAlbum/Interstitial': 'Gallery',\n",
    "    'GalleryCarousel': 'Gallery',\n",
    "    'GallerySecret': 'Gallery',\n",
    "    'GallerySecretRegisterDone': 'Gallery',\n",
    "    'GallerySecretRegisterPassword': 'Gallery',\n",
    "    'GallerySeeAll': 'Gallery',\n",
    "    'SingleImageView': 'Gallery',\n",
    "    'SingleVideoView': 'Gallery',\n",
    "\n",
    "    'CreateMemory/Chat/Feature/PremiumPage': 'CreateMemory',\n",
    "    'CreateMemory/ChatInvite/Feature/PremiumPage': 'CreateMemory',\n",
    "    'CreateMemory/Interstitial': 'CreateMemory',\n",
    "    'CreateMemory/MediaSource/Feature/PremiumPage': 'CreateMemory',\n",
    "    'CreateMemory/MediaSource/Feature/PremiumPage/Interstitial': 'CreateMemory',\n",
    "    'CreateMemory/Menu/Feature/PremiumPage': 'CreateMemory',\n",
    "\n",
    "    'Home': 'HomePage',\n",
    "    'HomeBanner/BannerAd/PremiumPage': 'HomePage',\n",
    "    'HomePanel': 'HomePage',\n",
    "    'HomePanel/Interstitial': 'HomePage',\n",
    "    'HomeSetting': 'HomePage',\n",
    "    'HomeShortCut/PremiumPage': 'HomePage',\n",
    "    'HomeWidgetLanding': 'HomePage',\n",
    "    'home_screen_widget_clicked': 'HomePage',\n",
    "    'home_wallpaper_changed': 'HomePage',\n",
    "    'home_screen_widget_clicked': 'HomePage',\n",
    "\n",
    "    'MapBanner/BannerAd/PremiumPage': 'Map',\n",
    "    'MapSetting': 'Map',\n",
    "\n",
    "    'NoteEditForm': 'Note',\n",
    "    'NoteFullPage': 'Note',\n",
    "    'NotePage': 'Note',\n",
    "     'note_add_new_note': 'Note',\n",
    "    'note_with_content_uploaded': 'Note',\n",
    "    'note_with_cover_uploaded': 'Note',\n",
    "    'note_with_title_uploaded': 'Note',\n",
    "    \n",
    "    'Calendar': 'Timeline', \n",
    "    'TimelineEditDateForm': 'Timeline',\n",
    "    'TimelineNewDateForm': 'Timeline',\n",
    "    'TimelineSingleDayInfoPage': 'Timeline',\n",
    "    'TimelineSingleDayInfoPage/Interstitial': 'Timeline',\n",
    "\n",
    "    'Tink': 'Tink',\n",
    "    'TinkBanner/BannerAd/PremiumPage': 'Tink',\n",
    "    'love_message_changed': 'Tink',\n",
    " \n",
    "    'VoiceOnHome/Chat/Feature/PremiumPage': 'Voice',\n",
    "    'VoiceOnHome/Feature/PremiumPage': 'Voice',\n",
    "    'VoiceOnHomeList': 'Voice',\n",
    "    'VoiceOnHomeList/Interstitial': 'Voice',\n",
    "    'voice_on_home_changed': 'Voice',\n",
    "    'voice_on_home_play': 'Voice',\n",
    "\n",
    "}"
   ]
  },
  {
   "cell_type": "code",
   "execution_count": 3,
   "metadata": {
    "colab": {
     "base_uri": "https://localhost:8080/",
     "height": 424
    },
    "id": "wAcZN8v4b4rs",
    "outputId": "2581d218-c70a-4e02-9503-48ad6299a7b2"
   },
   "outputs": [
    {
     "data": {
      "text/html": [
       "\n",
       "  <div id=\"df-679bac8a-3413-4f43-899e-c7cad703957e\">\n",
       "    <div class=\"colab-df-container\">\n",
       "      <div>\n",
       "<style scoped>\n",
       "    .dataframe tbody tr th:only-of-type {\n",
       "        vertical-align: middle;\n",
       "    }\n",
       "\n",
       "    .dataframe tbody tr th {\n",
       "        vertical-align: top;\n",
       "    }\n",
       "\n",
       "    .dataframe thead th {\n",
       "        text-align: right;\n",
       "    }\n",
       "</style>\n",
       "<table border=\"1\" class=\"dataframe\">\n",
       "  <thead>\n",
       "    <tr style=\"text-align: right;\">\n",
       "      <th></th>\n",
       "      <th>event_timestamp</th>\n",
       "      <th>user_id</th>\n",
       "      <th>used_features</th>\n",
       "      <th>time</th>\n",
       "      <th>date</th>\n",
       "    </tr>\n",
       "  </thead>\n",
       "  <tbody>\n",
       "    <tr>\n",
       "      <th>831</th>\n",
       "      <td>1651354969612000</td>\n",
       "      <td>w7zKjvjR0ZMDNHrdG0caUfbWeEk2</td>\n",
       "      <td>WelcomePage</td>\n",
       "      <td>20623.0</td>\n",
       "      <td>20220501</td>\n",
       "    </tr>\n",
       "    <tr>\n",
       "      <th>832</th>\n",
       "      <td>1651345421498000</td>\n",
       "      <td>YXwefJG7JFPtmjDOViuvcHnnl6F2</td>\n",
       "      <td>WelcomePage</td>\n",
       "      <td>NaN</td>\n",
       "      <td>20220501</td>\n",
       "    </tr>\n",
       "    <tr>\n",
       "      <th>833</th>\n",
       "      <td>1651345434279001</td>\n",
       "      <td>YXwefJG7JFPtmjDOViuvcHnnl6F2</td>\n",
       "      <td>WelcomePage</td>\n",
       "      <td>12778.0</td>\n",
       "      <td>20220501</td>\n",
       "    </tr>\n",
       "    <tr>\n",
       "      <th>834</th>\n",
       "      <td>1651370626499001</td>\n",
       "      <td>o3H0YzbXX9RcTbxuE5Je5G6GBj93</td>\n",
       "      <td>Chat</td>\n",
       "      <td>3508.0</td>\n",
       "      <td>20220501</td>\n",
       "    </tr>\n",
       "    <tr>\n",
       "      <th>835</th>\n",
       "      <td>1651370652258012</td>\n",
       "      <td>o3H0YzbXX9RcTbxuE5Je5G6GBj93</td>\n",
       "      <td>Note</td>\n",
       "      <td>4267.0</td>\n",
       "      <td>20220501</td>\n",
       "    </tr>\n",
       "    <tr>\n",
       "      <th>...</th>\n",
       "      <td>...</td>\n",
       "      <td>...</td>\n",
       "      <td>...</td>\n",
       "      <td>...</td>\n",
       "      <td>...</td>\n",
       "    </tr>\n",
       "    <tr>\n",
       "      <th>455989</th>\n",
       "      <td>1661920625577102</td>\n",
       "      <td>ykfVFe9VqEd90Bh89zTVbgdmN2z1</td>\n",
       "      <td>Timeline</td>\n",
       "      <td>10145.0</td>\n",
       "      <td>20220831</td>\n",
       "    </tr>\n",
       "    <tr>\n",
       "      <th>455990</th>\n",
       "      <td>1661956725981005</td>\n",
       "      <td>8HPJuHfzw5OqTjeUxxzfELVbzbu1</td>\n",
       "      <td>Timeline</td>\n",
       "      <td>NaN</td>\n",
       "      <td>20220831</td>\n",
       "    </tr>\n",
       "    <tr>\n",
       "      <th>455991</th>\n",
       "      <td>1661956733327009</td>\n",
       "      <td>8HPJuHfzw5OqTjeUxxzfELVbzbu1</td>\n",
       "      <td>Timeline</td>\n",
       "      <td>7345.0</td>\n",
       "      <td>20220831</td>\n",
       "    </tr>\n",
       "    <tr>\n",
       "      <th>455992</th>\n",
       "      <td>1661956741728012</td>\n",
       "      <td>8HPJuHfzw5OqTjeUxxzfELVbzbu1</td>\n",
       "      <td>Timeline</td>\n",
       "      <td>NaN</td>\n",
       "      <td>20220831</td>\n",
       "    </tr>\n",
       "    <tr>\n",
       "      <th>455993</th>\n",
       "      <td>1661956743412013</td>\n",
       "      <td>8HPJuHfzw5OqTjeUxxzfELVbzbu1</td>\n",
       "      <td>Timeline</td>\n",
       "      <td>1683.0</td>\n",
       "      <td>20220831</td>\n",
       "    </tr>\n",
       "  </tbody>\n",
       "</table>\n",
       "<p>22168409 rows × 5 columns</p>\n",
       "</div>\n",
       "      <button class=\"colab-df-convert\" onclick=\"convertToInteractive('df-679bac8a-3413-4f43-899e-c7cad703957e')\"\n",
       "              title=\"Convert this dataframe to an interactive table.\"\n",
       "              style=\"display:none;\">\n",
       "        \n",
       "  <svg xmlns=\"http://www.w3.org/2000/svg\" height=\"24px\"viewBox=\"0 0 24 24\"\n",
       "       width=\"24px\">\n",
       "    <path d=\"M0 0h24v24H0V0z\" fill=\"none\"/>\n",
       "    <path d=\"M18.56 5.44l.94 2.06.94-2.06 2.06-.94-2.06-.94-.94-2.06-.94 2.06-2.06.94zm-11 1L8.5 8.5l.94-2.06 2.06-.94-2.06-.94L8.5 2.5l-.94 2.06-2.06.94zm10 10l.94 2.06.94-2.06 2.06-.94-2.06-.94-.94-2.06-.94 2.06-2.06.94z\"/><path d=\"M17.41 7.96l-1.37-1.37c-.4-.4-.92-.59-1.43-.59-.52 0-1.04.2-1.43.59L10.3 9.45l-7.72 7.72c-.78.78-.78 2.05 0 2.83L4 21.41c.39.39.9.59 1.41.59.51 0 1.02-.2 1.41-.59l7.78-7.78 2.81-2.81c.8-.78.8-2.07 0-2.86zM5.41 20L4 18.59l7.72-7.72 1.47 1.35L5.41 20z\"/>\n",
       "  </svg>\n",
       "      </button>\n",
       "      \n",
       "  <style>\n",
       "    .colab-df-container {\n",
       "      display:flex;\n",
       "      flex-wrap:wrap;\n",
       "      gap: 12px;\n",
       "    }\n",
       "\n",
       "    .colab-df-convert {\n",
       "      background-color: #E8F0FE;\n",
       "      border: none;\n",
       "      border-radius: 50%;\n",
       "      cursor: pointer;\n",
       "      display: none;\n",
       "      fill: #1967D2;\n",
       "      height: 32px;\n",
       "      padding: 0 0 0 0;\n",
       "      width: 32px;\n",
       "    }\n",
       "\n",
       "    .colab-df-convert:hover {\n",
       "      background-color: #E2EBFA;\n",
       "      box-shadow: 0px 1px 2px rgba(60, 64, 67, 0.3), 0px 1px 3px 1px rgba(60, 64, 67, 0.15);\n",
       "      fill: #174EA6;\n",
       "    }\n",
       "\n",
       "    [theme=dark] .colab-df-convert {\n",
       "      background-color: #3B4455;\n",
       "      fill: #D2E3FC;\n",
       "    }\n",
       "\n",
       "    [theme=dark] .colab-df-convert:hover {\n",
       "      background-color: #434B5C;\n",
       "      box-shadow: 0px 1px 3px 1px rgba(0, 0, 0, 0.15);\n",
       "      filter: drop-shadow(0px 1px 2px rgba(0, 0, 0, 0.3));\n",
       "      fill: #FFFFFF;\n",
       "    }\n",
       "  </style>\n",
       "\n",
       "      <script>\n",
       "        const buttonEl =\n",
       "          document.querySelector('#df-679bac8a-3413-4f43-899e-c7cad703957e button.colab-df-convert');\n",
       "        buttonEl.style.display =\n",
       "          google.colab.kernel.accessAllowed ? 'block' : 'none';\n",
       "\n",
       "        async function convertToInteractive(key) {\n",
       "          const element = document.querySelector('#df-679bac8a-3413-4f43-899e-c7cad703957e');\n",
       "          const dataTable =\n",
       "            await google.colab.kernel.invokeFunction('convertToInteractive',\n",
       "                                                     [key], {});\n",
       "          if (!dataTable) return;\n",
       "\n",
       "          const docLinkHtml = 'Like what you see? Visit the ' +\n",
       "            '<a target=\"_blank\" href=https://colab.research.google.com/notebooks/data_table.ipynb>data table notebook</a>'\n",
       "            + ' to learn more about interactive tables.';\n",
       "          element.innerHTML = '';\n",
       "          dataTable['output_type'] = 'display_data';\n",
       "          await google.colab.output.renderOutput(dataTable, element);\n",
       "          const docLink = document.createElement('div');\n",
       "          docLink.innerHTML = docLinkHtml;\n",
       "          element.appendChild(docLink);\n",
       "        }\n",
       "      </script>\n",
       "    </div>\n",
       "  </div>\n",
       "  "
      ],
      "text/plain": [
       "         event_timestamp                       user_id used_features     time  \\\n",
       "831     1651354969612000  w7zKjvjR0ZMDNHrdG0caUfbWeEk2   WelcomePage  20623.0   \n",
       "832     1651345421498000  YXwefJG7JFPtmjDOViuvcHnnl6F2   WelcomePage      NaN   \n",
       "833     1651345434279001  YXwefJG7JFPtmjDOViuvcHnnl6F2   WelcomePage  12778.0   \n",
       "834     1651370626499001  o3H0YzbXX9RcTbxuE5Je5G6GBj93          Chat   3508.0   \n",
       "835     1651370652258012  o3H0YzbXX9RcTbxuE5Je5G6GBj93          Note   4267.0   \n",
       "...                  ...                           ...           ...      ...   \n",
       "455989  1661920625577102  ykfVFe9VqEd90Bh89zTVbgdmN2z1      Timeline  10145.0   \n",
       "455990  1661956725981005  8HPJuHfzw5OqTjeUxxzfELVbzbu1      Timeline      NaN   \n",
       "455991  1661956733327009  8HPJuHfzw5OqTjeUxxzfELVbzbu1      Timeline   7345.0   \n",
       "455992  1661956741728012  8HPJuHfzw5OqTjeUxxzfELVbzbu1      Timeline      NaN   \n",
       "455993  1661956743412013  8HPJuHfzw5OqTjeUxxzfELVbzbu1      Timeline   1683.0   \n",
       "\n",
       "            date  \n",
       "831     20220501  \n",
       "832     20220501  \n",
       "833     20220501  \n",
       "834     20220501  \n",
       "835     20220501  \n",
       "...          ...  \n",
       "455989  20220831  \n",
       "455990  20220831  \n",
       "455991  20220831  \n",
       "455992  20220831  \n",
       "455993  20220831  \n",
       "\n",
       "[22168409 rows x 5 columns]"
      ]
     },
     "execution_count": 3,
     "metadata": {},
     "output_type": "execute_result"
    }
   ],
   "source": [
    "allfiles0 = os.listdir()\n",
    "allfiles = []\n",
    "for i in allfiles0:\n",
    "  if 'data' in i and i >= 'data20220501' and i <= 'data20220915':\n",
    "    allfiles.append(i)\n",
    "allfiles = sorted(allfiles)\n",
    "\n",
    "features = ['/WatchPlayerPageRoute', 'Chat', 'Gallery', 'CreateMemory', 'HomePage',\n",
    "            'Map', 'Note', 'Timeline', 'Tink', 'Voice']\n",
    "\n",
    "dataframelist = []\n",
    "for i in allfiles:\n",
    "  consider_df = pd.read_csv(i).replace(replace_feat)\n",
    "  consider_df = consider_df[~consider_df['user_id'].isnull()]\n",
    "  consider_df = consider_df[consider_df['used_features'].isin(features + ['WelcomePage'])]\n",
    "  dataframelist.append(consider_df)\n",
    "\n",
    "alldata = pd.concat(dataframelist)\n",
    "alldata.head(5)"
   ]
  },
  {
   "cell_type": "markdown",
   "metadata": {
    "id": "wXFDhiAxosaN"
   },
   "source": [
    "Our data is now of 4.5 months, from beginning of May to mid of September. For fairness, we remove some new users, as they will create some noise for our data "
   ]
  },
  {
   "cell_type": "code",
   "execution_count": 4,
   "metadata": {
    "id": "v41M7_SmiSnV"
   },
   "outputs": [],
   "source": [
    "# Consider users have started the app at least 1 week ago\n",
    "# max_days = alldata.groupby('user_id', as_index=False).max()[['user_id', 'date']]\n",
    "min_days = alldata[alldata['used_features'] == 'WelcomePage'][['user_id', 'date']]\n",
    "\n",
    "# max_days['date'] = max_days['date'].apply(lambda x: (datetime.date(x//10000, (x%10000)//100, x%100)))\n",
    "min_days['date'] = min_days['date'].apply(lambda x: (datetime.date(x//10000, (x%10000)//100, x%100)))\n",
    "\n",
    "current_time = datetime.date(2022, 9, 15)\n",
    "\n",
    "min_days['days_diff'] = (current_time - min_days['date']).apply(lambda x: x.days)\n",
    "consider = min_days[min_days['days_diff'] > 7]['user_id'].to_list()\n",
    "alldata = alldata[alldata['user_id'].isin(consider)]"
   ]
  },
  {
   "cell_type": "markdown",
   "metadata": {
    "id": "sgwj4zBXhKW-"
   },
   "source": [
    "This part first analyze how users explore the app in their first few days."
   ]
  },
  {
   "cell_type": "code",
   "execution_count": 5,
   "metadata": {
    "id": "FZ6dZqvNchQC"
   },
   "outputs": [],
   "source": [
    "alldata = alldata.merge(min_days[['user_id', 'date']], how='inner', on='user_id', suffixes=('', '_first'))\n",
    "del min_days\n"
   ]
  },
  {
   "cell_type": "code",
   "execution_count": 6,
   "metadata": {
    "id": "eeY55XghONQY"
   },
   "outputs": [],
   "source": [
    "alldata['date'] = alldata['date'].apply(lambda x: (datetime.date(x//10000, (x%10000)//100, x%100))) \n",
    "alldata['day'] = (alldata['date'] - alldata['date_first'])\n",
    "alldata = alldata.drop(columns=['date'])"
   ]
  },
  {
   "cell_type": "code",
   "execution_count": 7,
   "metadata": {
    "colab": {
     "base_uri": "https://localhost:8080/"
    },
    "id": "nsMbwYlS4Iir",
    "outputId": "5e109304-04a0-4aa5-e40f-c918c684cf01"
   },
   "outputs": [
    {
     "data": {
      "text/plain": [
       "(18074740, 6)"
      ]
     },
     "execution_count": 7,
     "metadata": {},
     "output_type": "execute_result"
    }
   ],
   "source": [
    "explore = alldata[(alldata['day'] < datetime.timedelta(days=3)) &(alldata['used_features'].isin(features))] # threshold is 3 days\n",
    "explore.shape"
   ]
  },
  {
   "cell_type": "code",
   "execution_count": 8,
   "metadata": {
    "colab": {
     "base_uri": "https://localhost:8080/",
     "height": 206
    },
    "id": "hI-ESlCf58cu",
    "outputId": "796fd830-d70f-4779-de4e-66e6889c6a53"
   },
   "outputs": [
    {
     "data": {
      "text/html": [
       "\n",
       "  <div id=\"df-186f3f5c-c278-40fa-b084-4165e557f160\">\n",
       "    <div class=\"colab-df-container\">\n",
       "      <div>\n",
       "<style scoped>\n",
       "    .dataframe tbody tr th:only-of-type {\n",
       "        vertical-align: middle;\n",
       "    }\n",
       "\n",
       "    .dataframe tbody tr th {\n",
       "        vertical-align: top;\n",
       "    }\n",
       "\n",
       "    .dataframe thead th {\n",
       "        text-align: right;\n",
       "    }\n",
       "</style>\n",
       "<table border=\"1\" class=\"dataframe\">\n",
       "  <thead>\n",
       "    <tr style=\"text-align: right;\">\n",
       "      <th></th>\n",
       "      <th>user_id</th>\n",
       "      <th>used_features</th>\n",
       "      <th>time</th>\n",
       "      <th>time_count</th>\n",
       "    </tr>\n",
       "  </thead>\n",
       "  <tbody>\n",
       "    <tr>\n",
       "      <th>0</th>\n",
       "      <td>001nFsWoDcapTAitp7lAUhcT2oZ2</td>\n",
       "      <td>Chat</td>\n",
       "      <td>4526.0</td>\n",
       "      <td>4</td>\n",
       "    </tr>\n",
       "    <tr>\n",
       "      <th>1</th>\n",
       "      <td>001nFsWoDcapTAitp7lAUhcT2oZ2</td>\n",
       "      <td>CreateMemory</td>\n",
       "      <td>7262.0</td>\n",
       "      <td>4</td>\n",
       "    </tr>\n",
       "    <tr>\n",
       "      <th>2</th>\n",
       "      <td>001nFsWoDcapTAitp7lAUhcT2oZ2</td>\n",
       "      <td>Gallery</td>\n",
       "      <td>3926.0</td>\n",
       "      <td>2</td>\n",
       "    </tr>\n",
       "    <tr>\n",
       "      <th>3</th>\n",
       "      <td>001nFsWoDcapTAitp7lAUhcT2oZ2</td>\n",
       "      <td>HomePage</td>\n",
       "      <td>22456.0</td>\n",
       "      <td>8</td>\n",
       "    </tr>\n",
       "    <tr>\n",
       "      <th>4</th>\n",
       "      <td>001nFsWoDcapTAitp7lAUhcT2oZ2</td>\n",
       "      <td>Map</td>\n",
       "      <td>22466.0</td>\n",
       "      <td>6</td>\n",
       "    </tr>\n",
       "  </tbody>\n",
       "</table>\n",
       "</div>\n",
       "      <button class=\"colab-df-convert\" onclick=\"convertToInteractive('df-186f3f5c-c278-40fa-b084-4165e557f160')\"\n",
       "              title=\"Convert this dataframe to an interactive table.\"\n",
       "              style=\"display:none;\">\n",
       "        \n",
       "  <svg xmlns=\"http://www.w3.org/2000/svg\" height=\"24px\"viewBox=\"0 0 24 24\"\n",
       "       width=\"24px\">\n",
       "    <path d=\"M0 0h24v24H0V0z\" fill=\"none\"/>\n",
       "    <path d=\"M18.56 5.44l.94 2.06.94-2.06 2.06-.94-2.06-.94-.94-2.06-.94 2.06-2.06.94zm-11 1L8.5 8.5l.94-2.06 2.06-.94-2.06-.94L8.5 2.5l-.94 2.06-2.06.94zm10 10l.94 2.06.94-2.06 2.06-.94-2.06-.94-.94-2.06-.94 2.06-2.06.94z\"/><path d=\"M17.41 7.96l-1.37-1.37c-.4-.4-.92-.59-1.43-.59-.52 0-1.04.2-1.43.59L10.3 9.45l-7.72 7.72c-.78.78-.78 2.05 0 2.83L4 21.41c.39.39.9.59 1.41.59.51 0 1.02-.2 1.41-.59l7.78-7.78 2.81-2.81c.8-.78.8-2.07 0-2.86zM5.41 20L4 18.59l7.72-7.72 1.47 1.35L5.41 20z\"/>\n",
       "  </svg>\n",
       "      </button>\n",
       "      \n",
       "  <style>\n",
       "    .colab-df-container {\n",
       "      display:flex;\n",
       "      flex-wrap:wrap;\n",
       "      gap: 12px;\n",
       "    }\n",
       "\n",
       "    .colab-df-convert {\n",
       "      background-color: #E8F0FE;\n",
       "      border: none;\n",
       "      border-radius: 50%;\n",
       "      cursor: pointer;\n",
       "      display: none;\n",
       "      fill: #1967D2;\n",
       "      height: 32px;\n",
       "      padding: 0 0 0 0;\n",
       "      width: 32px;\n",
       "    }\n",
       "\n",
       "    .colab-df-convert:hover {\n",
       "      background-color: #E2EBFA;\n",
       "      box-shadow: 0px 1px 2px rgba(60, 64, 67, 0.3), 0px 1px 3px 1px rgba(60, 64, 67, 0.15);\n",
       "      fill: #174EA6;\n",
       "    }\n",
       "\n",
       "    [theme=dark] .colab-df-convert {\n",
       "      background-color: #3B4455;\n",
       "      fill: #D2E3FC;\n",
       "    }\n",
       "\n",
       "    [theme=dark] .colab-df-convert:hover {\n",
       "      background-color: #434B5C;\n",
       "      box-shadow: 0px 1px 3px 1px rgba(0, 0, 0, 0.15);\n",
       "      filter: drop-shadow(0px 1px 2px rgba(0, 0, 0, 0.3));\n",
       "      fill: #FFFFFF;\n",
       "    }\n",
       "  </style>\n",
       "\n",
       "      <script>\n",
       "        const buttonEl =\n",
       "          document.querySelector('#df-186f3f5c-c278-40fa-b084-4165e557f160 button.colab-df-convert');\n",
       "        buttonEl.style.display =\n",
       "          google.colab.kernel.accessAllowed ? 'block' : 'none';\n",
       "\n",
       "        async function convertToInteractive(key) {\n",
       "          const element = document.querySelector('#df-186f3f5c-c278-40fa-b084-4165e557f160');\n",
       "          const dataTable =\n",
       "            await google.colab.kernel.invokeFunction('convertToInteractive',\n",
       "                                                     [key], {});\n",
       "          if (!dataTable) return;\n",
       "\n",
       "          const docLinkHtml = 'Like what you see? Visit the ' +\n",
       "            '<a target=\"_blank\" href=https://colab.research.google.com/notebooks/data_table.ipynb>data table notebook</a>'\n",
       "            + ' to learn more about interactive tables.';\n",
       "          element.innerHTML = '';\n",
       "          dataTable['output_type'] = 'display_data';\n",
       "          await google.colab.output.renderOutput(dataTable, element);\n",
       "          const docLink = document.createElement('div');\n",
       "          docLink.innerHTML = docLinkHtml;\n",
       "          element.appendChild(docLink);\n",
       "        }\n",
       "      </script>\n",
       "    </div>\n",
       "  </div>\n",
       "  "
      ],
      "text/plain": [
       "                        user_id used_features     time  time_count\n",
       "0  001nFsWoDcapTAitp7lAUhcT2oZ2          Chat   4526.0           4\n",
       "1  001nFsWoDcapTAitp7lAUhcT2oZ2  CreateMemory   7262.0           4\n",
       "2  001nFsWoDcapTAitp7lAUhcT2oZ2       Gallery   3926.0           2\n",
       "3  001nFsWoDcapTAitp7lAUhcT2oZ2      HomePage  22456.0           8\n",
       "4  001nFsWoDcapTAitp7lAUhcT2oZ2           Map  22466.0           6"
      ]
     },
     "execution_count": 8,
     "metadata": {},
     "output_type": "execute_result"
    }
   ],
   "source": [
    "explore0 = explore.groupby(['user_id', 'used_features'], as_index=False).sum()\n",
    "explore1 = explore.groupby(['user_id', 'used_features'], as_index=False).count()\n",
    "\n",
    "explore0 = explore0[['user_id', 'used_features', 'time']].merge(explore1[['user_id', 'used_features', 'time']], how='outer', on=['user_id', 'used_features'], suffixes=('', '_count'))\n",
    "del explore1\n",
    "explore0.head(5)"
   ]
  },
  {
   "cell_type": "code",
   "execution_count": 9,
   "metadata": {
    "id": "wY6HCLCU86po"
   },
   "outputs": [],
   "source": [
    "examine = pd.DataFrame()\n",
    "examine['user_id'] = list(set(explore0['user_id']))\n",
    "for i in features:\n",
    "  tmp = explore0[explore0['used_features'] == i]\n",
    "  examine = examine.merge(tmp[['user_id', 'time', 'time_count']], how='left', on='user_id', suffixes = ('', '_' + i))\n",
    "\n",
    "del explore0\n",
    "examine = examine.fillna(0)"
   ]
  },
  {
   "cell_type": "code",
   "execution_count": 10,
   "metadata": {
    "colab": {
     "base_uri": "https://localhost:8080/",
     "height": 300
    },
    "id": "A1Wq76x3HeS4",
    "outputId": "ce4e52fa-9000-4b7f-d51c-08b8a47b5cdf"
   },
   "outputs": [
    {
     "data": {
      "text/html": [
       "\n",
       "  <div id=\"df-123ca809-dbc6-4a99-bc51-b237cbb34dbc\">\n",
       "    <div class=\"colab-df-container\">\n",
       "      <div>\n",
       "<style scoped>\n",
       "    .dataframe tbody tr th:only-of-type {\n",
       "        vertical-align: middle;\n",
       "    }\n",
       "\n",
       "    .dataframe tbody tr th {\n",
       "        vertical-align: top;\n",
       "    }\n",
       "\n",
       "    .dataframe thead th {\n",
       "        text-align: right;\n",
       "    }\n",
       "</style>\n",
       "<table border=\"1\" class=\"dataframe\">\n",
       "  <thead>\n",
       "    <tr style=\"text-align: right;\">\n",
       "      <th></th>\n",
       "      <th>user_id</th>\n",
       "      <th>time</th>\n",
       "      <th>time_count</th>\n",
       "      <th>time_Chat</th>\n",
       "      <th>time_count_Chat</th>\n",
       "      <th>time_Gallery</th>\n",
       "      <th>time_count_Gallery</th>\n",
       "      <th>time_CreateMemory</th>\n",
       "      <th>time_count_CreateMemory</th>\n",
       "      <th>time_HomePage</th>\n",
       "      <th>...</th>\n",
       "      <th>time_Map</th>\n",
       "      <th>time_count_Map</th>\n",
       "      <th>time_Note</th>\n",
       "      <th>time_count_Note</th>\n",
       "      <th>time_Timeline</th>\n",
       "      <th>time_count_Timeline</th>\n",
       "      <th>time_Tink</th>\n",
       "      <th>time_count_Tink</th>\n",
       "      <th>time_Voice</th>\n",
       "      <th>time_count_Voice</th>\n",
       "    </tr>\n",
       "  </thead>\n",
       "  <tbody>\n",
       "    <tr>\n",
       "      <th>0</th>\n",
       "      <td>7YeJbYtvO8dbCXvVAVOCUy6s7203</td>\n",
       "      <td>22462.0</td>\n",
       "      <td>9.0</td>\n",
       "      <td>310737.0</td>\n",
       "      <td>60.0</td>\n",
       "      <td>131009.0</td>\n",
       "      <td>28.0</td>\n",
       "      <td>23491.0</td>\n",
       "      <td>4.0</td>\n",
       "      <td>149932.0</td>\n",
       "      <td>...</td>\n",
       "      <td>61278.0</td>\n",
       "      <td>6.0</td>\n",
       "      <td>0.0</td>\n",
       "      <td>0.0</td>\n",
       "      <td>250154.0</td>\n",
       "      <td>37.0</td>\n",
       "      <td>2009.0</td>\n",
       "      <td>1.0</td>\n",
       "      <td>0.0</td>\n",
       "      <td>0.0</td>\n",
       "    </tr>\n",
       "    <tr>\n",
       "      <th>1</th>\n",
       "      <td>V4cQo7s3YUfWEnHi1lNAiGiGZFj1</td>\n",
       "      <td>471422.0</td>\n",
       "      <td>22.0</td>\n",
       "      <td>215152.0</td>\n",
       "      <td>52.0</td>\n",
       "      <td>57178.0</td>\n",
       "      <td>16.0</td>\n",
       "      <td>115224.0</td>\n",
       "      <td>8.0</td>\n",
       "      <td>211730.0</td>\n",
       "      <td>...</td>\n",
       "      <td>131598.0</td>\n",
       "      <td>28.0</td>\n",
       "      <td>0.0</td>\n",
       "      <td>0.0</td>\n",
       "      <td>48764.0</td>\n",
       "      <td>12.0</td>\n",
       "      <td>4006.0</td>\n",
       "      <td>2.0</td>\n",
       "      <td>0.0</td>\n",
       "      <td>0.0</td>\n",
       "    </tr>\n",
       "    <tr>\n",
       "      <th>2</th>\n",
       "      <td>Eh1vAmoTEydpiXbnQn4dZ3l4Fft1</td>\n",
       "      <td>49380.0</td>\n",
       "      <td>14.0</td>\n",
       "      <td>629218.0</td>\n",
       "      <td>84.0</td>\n",
       "      <td>18974.0</td>\n",
       "      <td>6.0</td>\n",
       "      <td>0.0</td>\n",
       "      <td>0.0</td>\n",
       "      <td>133460.0</td>\n",
       "      <td>...</td>\n",
       "      <td>343570.0</td>\n",
       "      <td>32.0</td>\n",
       "      <td>0.0</td>\n",
       "      <td>0.0</td>\n",
       "      <td>26658.0</td>\n",
       "      <td>6.0</td>\n",
       "      <td>4006.0</td>\n",
       "      <td>2.0</td>\n",
       "      <td>0.0</td>\n",
       "      <td>0.0</td>\n",
       "    </tr>\n",
       "    <tr>\n",
       "      <th>3</th>\n",
       "      <td>v4OZ83S9KnNOfPksM8CGhlaOVVr1</td>\n",
       "      <td>15605.0</td>\n",
       "      <td>3.0</td>\n",
       "      <td>762672.0</td>\n",
       "      <td>117.0</td>\n",
       "      <td>56342.0</td>\n",
       "      <td>7.0</td>\n",
       "      <td>67712.0</td>\n",
       "      <td>5.0</td>\n",
       "      <td>207601.0</td>\n",
       "      <td>...</td>\n",
       "      <td>227566.0</td>\n",
       "      <td>21.0</td>\n",
       "      <td>0.0</td>\n",
       "      <td>0.0</td>\n",
       "      <td>16965.0</td>\n",
       "      <td>6.0</td>\n",
       "      <td>8011.0</td>\n",
       "      <td>5.0</td>\n",
       "      <td>0.0</td>\n",
       "      <td>0.0</td>\n",
       "    </tr>\n",
       "    <tr>\n",
       "      <th>4</th>\n",
       "      <td>CypLe3JAHeRTMcWMupJJmH7R1PO2</td>\n",
       "      <td>275716.0</td>\n",
       "      <td>24.0</td>\n",
       "      <td>108371.0</td>\n",
       "      <td>36.0</td>\n",
       "      <td>117181.0</td>\n",
       "      <td>15.0</td>\n",
       "      <td>0.0</td>\n",
       "      <td>0.0</td>\n",
       "      <td>55061.0</td>\n",
       "      <td>...</td>\n",
       "      <td>103817.0</td>\n",
       "      <td>4.0</td>\n",
       "      <td>0.0</td>\n",
       "      <td>0.0</td>\n",
       "      <td>18973.0</td>\n",
       "      <td>10.0</td>\n",
       "      <td>2003.0</td>\n",
       "      <td>1.0</td>\n",
       "      <td>6476.0</td>\n",
       "      <td>5.0</td>\n",
       "    </tr>\n",
       "  </tbody>\n",
       "</table>\n",
       "<p>5 rows × 21 columns</p>\n",
       "</div>\n",
       "      <button class=\"colab-df-convert\" onclick=\"convertToInteractive('df-123ca809-dbc6-4a99-bc51-b237cbb34dbc')\"\n",
       "              title=\"Convert this dataframe to an interactive table.\"\n",
       "              style=\"display:none;\">\n",
       "        \n",
       "  <svg xmlns=\"http://www.w3.org/2000/svg\" height=\"24px\"viewBox=\"0 0 24 24\"\n",
       "       width=\"24px\">\n",
       "    <path d=\"M0 0h24v24H0V0z\" fill=\"none\"/>\n",
       "    <path d=\"M18.56 5.44l.94 2.06.94-2.06 2.06-.94-2.06-.94-.94-2.06-.94 2.06-2.06.94zm-11 1L8.5 8.5l.94-2.06 2.06-.94-2.06-.94L8.5 2.5l-.94 2.06-2.06.94zm10 10l.94 2.06.94-2.06 2.06-.94-2.06-.94-.94-2.06-.94 2.06-2.06.94z\"/><path d=\"M17.41 7.96l-1.37-1.37c-.4-.4-.92-.59-1.43-.59-.52 0-1.04.2-1.43.59L10.3 9.45l-7.72 7.72c-.78.78-.78 2.05 0 2.83L4 21.41c.39.39.9.59 1.41.59.51 0 1.02-.2 1.41-.59l7.78-7.78 2.81-2.81c.8-.78.8-2.07 0-2.86zM5.41 20L4 18.59l7.72-7.72 1.47 1.35L5.41 20z\"/>\n",
       "  </svg>\n",
       "      </button>\n",
       "      \n",
       "  <style>\n",
       "    .colab-df-container {\n",
       "      display:flex;\n",
       "      flex-wrap:wrap;\n",
       "      gap: 12px;\n",
       "    }\n",
       "\n",
       "    .colab-df-convert {\n",
       "      background-color: #E8F0FE;\n",
       "      border: none;\n",
       "      border-radius: 50%;\n",
       "      cursor: pointer;\n",
       "      display: none;\n",
       "      fill: #1967D2;\n",
       "      height: 32px;\n",
       "      padding: 0 0 0 0;\n",
       "      width: 32px;\n",
       "    }\n",
       "\n",
       "    .colab-df-convert:hover {\n",
       "      background-color: #E2EBFA;\n",
       "      box-shadow: 0px 1px 2px rgba(60, 64, 67, 0.3), 0px 1px 3px 1px rgba(60, 64, 67, 0.15);\n",
       "      fill: #174EA6;\n",
       "    }\n",
       "\n",
       "    [theme=dark] .colab-df-convert {\n",
       "      background-color: #3B4455;\n",
       "      fill: #D2E3FC;\n",
       "    }\n",
       "\n",
       "    [theme=dark] .colab-df-convert:hover {\n",
       "      background-color: #434B5C;\n",
       "      box-shadow: 0px 1px 3px 1px rgba(0, 0, 0, 0.15);\n",
       "      filter: drop-shadow(0px 1px 2px rgba(0, 0, 0, 0.3));\n",
       "      fill: #FFFFFF;\n",
       "    }\n",
       "  </style>\n",
       "\n",
       "      <script>\n",
       "        const buttonEl =\n",
       "          document.querySelector('#df-123ca809-dbc6-4a99-bc51-b237cbb34dbc button.colab-df-convert');\n",
       "        buttonEl.style.display =\n",
       "          google.colab.kernel.accessAllowed ? 'block' : 'none';\n",
       "\n",
       "        async function convertToInteractive(key) {\n",
       "          const element = document.querySelector('#df-123ca809-dbc6-4a99-bc51-b237cbb34dbc');\n",
       "          const dataTable =\n",
       "            await google.colab.kernel.invokeFunction('convertToInteractive',\n",
       "                                                     [key], {});\n",
       "          if (!dataTable) return;\n",
       "\n",
       "          const docLinkHtml = 'Like what you see? Visit the ' +\n",
       "            '<a target=\"_blank\" href=https://colab.research.google.com/notebooks/data_table.ipynb>data table notebook</a>'\n",
       "            + ' to learn more about interactive tables.';\n",
       "          element.innerHTML = '';\n",
       "          dataTable['output_type'] = 'display_data';\n",
       "          await google.colab.output.renderOutput(dataTable, element);\n",
       "          const docLink = document.createElement('div');\n",
       "          docLink.innerHTML = docLinkHtml;\n",
       "          element.appendChild(docLink);\n",
       "        }\n",
       "      </script>\n",
       "    </div>\n",
       "  </div>\n",
       "  "
      ],
      "text/plain": [
       "                        user_id      time  time_count  time_Chat  \\\n",
       "0  7YeJbYtvO8dbCXvVAVOCUy6s7203   22462.0         9.0   310737.0   \n",
       "1  V4cQo7s3YUfWEnHi1lNAiGiGZFj1  471422.0        22.0   215152.0   \n",
       "2  Eh1vAmoTEydpiXbnQn4dZ3l4Fft1   49380.0        14.0   629218.0   \n",
       "3  v4OZ83S9KnNOfPksM8CGhlaOVVr1   15605.0         3.0   762672.0   \n",
       "4  CypLe3JAHeRTMcWMupJJmH7R1PO2  275716.0        24.0   108371.0   \n",
       "\n",
       "   time_count_Chat  time_Gallery  time_count_Gallery  time_CreateMemory  \\\n",
       "0             60.0      131009.0                28.0            23491.0   \n",
       "1             52.0       57178.0                16.0           115224.0   \n",
       "2             84.0       18974.0                 6.0                0.0   \n",
       "3            117.0       56342.0                 7.0            67712.0   \n",
       "4             36.0      117181.0                15.0                0.0   \n",
       "\n",
       "   time_count_CreateMemory  time_HomePage  ...  time_Map  time_count_Map  \\\n",
       "0                      4.0       149932.0  ...   61278.0             6.0   \n",
       "1                      8.0       211730.0  ...  131598.0            28.0   \n",
       "2                      0.0       133460.0  ...  343570.0            32.0   \n",
       "3                      5.0       207601.0  ...  227566.0            21.0   \n",
       "4                      0.0        55061.0  ...  103817.0             4.0   \n",
       "\n",
       "   time_Note  time_count_Note  time_Timeline  time_count_Timeline  time_Tink  \\\n",
       "0        0.0              0.0       250154.0                 37.0     2009.0   \n",
       "1        0.0              0.0        48764.0                 12.0     4006.0   \n",
       "2        0.0              0.0        26658.0                  6.0     4006.0   \n",
       "3        0.0              0.0        16965.0                  6.0     8011.0   \n",
       "4        0.0              0.0        18973.0                 10.0     2003.0   \n",
       "\n",
       "   time_count_Tink  time_Voice  time_count_Voice  \n",
       "0              1.0         0.0               0.0  \n",
       "1              2.0         0.0               0.0  \n",
       "2              2.0         0.0               0.0  \n",
       "3              5.0         0.0               0.0  \n",
       "4              1.0      6476.0               5.0  \n",
       "\n",
       "[5 rows x 21 columns]"
      ]
     },
     "execution_count": 10,
     "metadata": {},
     "output_type": "execute_result"
    }
   ],
   "source": [
    "examine.head(5)"
   ]
  },
  {
   "cell_type": "markdown",
   "metadata": {
    "id": "RR1a3JNFJDKR"
   },
   "source": [
    "Get number of days users stay in the app up to current day"
   ]
  },
  {
   "cell_type": "code",
   "execution_count": 11,
   "metadata": {
    "id": "aSc4QeiFJAMM"
   },
   "outputs": [],
   "source": [
    "del tmp\n",
    "tmp = alldata.groupby(['user_id'], as_index=False).max()[['user_id', 'day']]\n",
    "examine = examine.merge(tmp, how='left', on='user_id')\n"
   ]
  },
  {
   "cell_type": "code",
   "execution_count": 18,
   "metadata": {
    "id": "BBvXyst8hhTn"
   },
   "outputs": [],
   "source": [
    "examine2 = examine.rename(columns = {'time': 'time_/WatchPlayerPageRoute', 'time_count': 'time_count_/WatchPlayerPageRoute'})\n",
    "examine2['day'] = examine2['day'].apply(lambda x: x.days)"
   ]
  },
  {
   "cell_type": "code",
   "execution_count": 19,
   "metadata": {
    "colab": {
     "base_uri": "https://localhost:8080/",
     "height": 300
    },
    "id": "GUHcTPwoKU3E",
    "outputId": "34621349-39b5-42a9-dfea-9ed384fb115c"
   },
   "outputs": [
    {
     "data": {
      "text/html": [
       "\n",
       "  <div id=\"df-f6f6249c-0f30-422a-b6d6-b045622e96d0\">\n",
       "    <div class=\"colab-df-container\">\n",
       "      <div>\n",
       "<style scoped>\n",
       "    .dataframe tbody tr th:only-of-type {\n",
       "        vertical-align: middle;\n",
       "    }\n",
       "\n",
       "    .dataframe tbody tr th {\n",
       "        vertical-align: top;\n",
       "    }\n",
       "\n",
       "    .dataframe thead th {\n",
       "        text-align: right;\n",
       "    }\n",
       "</style>\n",
       "<table border=\"1\" class=\"dataframe\">\n",
       "  <thead>\n",
       "    <tr style=\"text-align: right;\">\n",
       "      <th></th>\n",
       "      <th>user_id</th>\n",
       "      <th>time_/WatchPlayerPageRoute</th>\n",
       "      <th>time_count_/WatchPlayerPageRoute</th>\n",
       "      <th>time_Chat</th>\n",
       "      <th>time_count_Chat</th>\n",
       "      <th>time_Gallery</th>\n",
       "      <th>time_count_Gallery</th>\n",
       "      <th>time_CreateMemory</th>\n",
       "      <th>time_count_CreateMemory</th>\n",
       "      <th>time_HomePage</th>\n",
       "      <th>...</th>\n",
       "      <th>time_count_Map</th>\n",
       "      <th>time_Note</th>\n",
       "      <th>time_count_Note</th>\n",
       "      <th>time_Timeline</th>\n",
       "      <th>time_count_Timeline</th>\n",
       "      <th>time_Tink</th>\n",
       "      <th>time_count_Tink</th>\n",
       "      <th>time_Voice</th>\n",
       "      <th>time_count_Voice</th>\n",
       "      <th>day</th>\n",
       "    </tr>\n",
       "  </thead>\n",
       "  <tbody>\n",
       "    <tr>\n",
       "      <th>0</th>\n",
       "      <td>7YeJbYtvO8dbCXvVAVOCUy6s7203</td>\n",
       "      <td>22462.0</td>\n",
       "      <td>9.0</td>\n",
       "      <td>310737.0</td>\n",
       "      <td>60.0</td>\n",
       "      <td>131009.0</td>\n",
       "      <td>28.0</td>\n",
       "      <td>23491.0</td>\n",
       "      <td>4.0</td>\n",
       "      <td>149932.0</td>\n",
       "      <td>...</td>\n",
       "      <td>6.0</td>\n",
       "      <td>0.0</td>\n",
       "      <td>0.0</td>\n",
       "      <td>250154.0</td>\n",
       "      <td>37.0</td>\n",
       "      <td>2009.0</td>\n",
       "      <td>1.0</td>\n",
       "      <td>0.0</td>\n",
       "      <td>0.0</td>\n",
       "      <td>0</td>\n",
       "    </tr>\n",
       "    <tr>\n",
       "      <th>1</th>\n",
       "      <td>V4cQo7s3YUfWEnHi1lNAiGiGZFj1</td>\n",
       "      <td>471422.0</td>\n",
       "      <td>22.0</td>\n",
       "      <td>215152.0</td>\n",
       "      <td>52.0</td>\n",
       "      <td>57178.0</td>\n",
       "      <td>16.0</td>\n",
       "      <td>115224.0</td>\n",
       "      <td>8.0</td>\n",
       "      <td>211730.0</td>\n",
       "      <td>...</td>\n",
       "      <td>28.0</td>\n",
       "      <td>0.0</td>\n",
       "      <td>0.0</td>\n",
       "      <td>48764.0</td>\n",
       "      <td>12.0</td>\n",
       "      <td>4006.0</td>\n",
       "      <td>2.0</td>\n",
       "      <td>0.0</td>\n",
       "      <td>0.0</td>\n",
       "      <td>27</td>\n",
       "    </tr>\n",
       "    <tr>\n",
       "      <th>2</th>\n",
       "      <td>Eh1vAmoTEydpiXbnQn4dZ3l4Fft1</td>\n",
       "      <td>49380.0</td>\n",
       "      <td>14.0</td>\n",
       "      <td>629218.0</td>\n",
       "      <td>84.0</td>\n",
       "      <td>18974.0</td>\n",
       "      <td>6.0</td>\n",
       "      <td>0.0</td>\n",
       "      <td>0.0</td>\n",
       "      <td>133460.0</td>\n",
       "      <td>...</td>\n",
       "      <td>32.0</td>\n",
       "      <td>0.0</td>\n",
       "      <td>0.0</td>\n",
       "      <td>26658.0</td>\n",
       "      <td>6.0</td>\n",
       "      <td>4006.0</td>\n",
       "      <td>2.0</td>\n",
       "      <td>0.0</td>\n",
       "      <td>0.0</td>\n",
       "      <td>12</td>\n",
       "    </tr>\n",
       "    <tr>\n",
       "      <th>3</th>\n",
       "      <td>v4OZ83S9KnNOfPksM8CGhlaOVVr1</td>\n",
       "      <td>15605.0</td>\n",
       "      <td>3.0</td>\n",
       "      <td>762672.0</td>\n",
       "      <td>117.0</td>\n",
       "      <td>56342.0</td>\n",
       "      <td>7.0</td>\n",
       "      <td>67712.0</td>\n",
       "      <td>5.0</td>\n",
       "      <td>207601.0</td>\n",
       "      <td>...</td>\n",
       "      <td>21.0</td>\n",
       "      <td>0.0</td>\n",
       "      <td>0.0</td>\n",
       "      <td>16965.0</td>\n",
       "      <td>6.0</td>\n",
       "      <td>8011.0</td>\n",
       "      <td>5.0</td>\n",
       "      <td>0.0</td>\n",
       "      <td>0.0</td>\n",
       "      <td>18</td>\n",
       "    </tr>\n",
       "    <tr>\n",
       "      <th>4</th>\n",
       "      <td>CypLe3JAHeRTMcWMupJJmH7R1PO2</td>\n",
       "      <td>275716.0</td>\n",
       "      <td>24.0</td>\n",
       "      <td>108371.0</td>\n",
       "      <td>36.0</td>\n",
       "      <td>117181.0</td>\n",
       "      <td>15.0</td>\n",
       "      <td>0.0</td>\n",
       "      <td>0.0</td>\n",
       "      <td>55061.0</td>\n",
       "      <td>...</td>\n",
       "      <td>4.0</td>\n",
       "      <td>0.0</td>\n",
       "      <td>0.0</td>\n",
       "      <td>18973.0</td>\n",
       "      <td>10.0</td>\n",
       "      <td>2003.0</td>\n",
       "      <td>1.0</td>\n",
       "      <td>6476.0</td>\n",
       "      <td>5.0</td>\n",
       "      <td>0</td>\n",
       "    </tr>\n",
       "  </tbody>\n",
       "</table>\n",
       "<p>5 rows × 22 columns</p>\n",
       "</div>\n",
       "      <button class=\"colab-df-convert\" onclick=\"convertToInteractive('df-f6f6249c-0f30-422a-b6d6-b045622e96d0')\"\n",
       "              title=\"Convert this dataframe to an interactive table.\"\n",
       "              style=\"display:none;\">\n",
       "        \n",
       "  <svg xmlns=\"http://www.w3.org/2000/svg\" height=\"24px\"viewBox=\"0 0 24 24\"\n",
       "       width=\"24px\">\n",
       "    <path d=\"M0 0h24v24H0V0z\" fill=\"none\"/>\n",
       "    <path d=\"M18.56 5.44l.94 2.06.94-2.06 2.06-.94-2.06-.94-.94-2.06-.94 2.06-2.06.94zm-11 1L8.5 8.5l.94-2.06 2.06-.94-2.06-.94L8.5 2.5l-.94 2.06-2.06.94zm10 10l.94 2.06.94-2.06 2.06-.94-2.06-.94-.94-2.06-.94 2.06-2.06.94z\"/><path d=\"M17.41 7.96l-1.37-1.37c-.4-.4-.92-.59-1.43-.59-.52 0-1.04.2-1.43.59L10.3 9.45l-7.72 7.72c-.78.78-.78 2.05 0 2.83L4 21.41c.39.39.9.59 1.41.59.51 0 1.02-.2 1.41-.59l7.78-7.78 2.81-2.81c.8-.78.8-2.07 0-2.86zM5.41 20L4 18.59l7.72-7.72 1.47 1.35L5.41 20z\"/>\n",
       "  </svg>\n",
       "      </button>\n",
       "      \n",
       "  <style>\n",
       "    .colab-df-container {\n",
       "      display:flex;\n",
       "      flex-wrap:wrap;\n",
       "      gap: 12px;\n",
       "    }\n",
       "\n",
       "    .colab-df-convert {\n",
       "      background-color: #E8F0FE;\n",
       "      border: none;\n",
       "      border-radius: 50%;\n",
       "      cursor: pointer;\n",
       "      display: none;\n",
       "      fill: #1967D2;\n",
       "      height: 32px;\n",
       "      padding: 0 0 0 0;\n",
       "      width: 32px;\n",
       "    }\n",
       "\n",
       "    .colab-df-convert:hover {\n",
       "      background-color: #E2EBFA;\n",
       "      box-shadow: 0px 1px 2px rgba(60, 64, 67, 0.3), 0px 1px 3px 1px rgba(60, 64, 67, 0.15);\n",
       "      fill: #174EA6;\n",
       "    }\n",
       "\n",
       "    [theme=dark] .colab-df-convert {\n",
       "      background-color: #3B4455;\n",
       "      fill: #D2E3FC;\n",
       "    }\n",
       "\n",
       "    [theme=dark] .colab-df-convert:hover {\n",
       "      background-color: #434B5C;\n",
       "      box-shadow: 0px 1px 3px 1px rgba(0, 0, 0, 0.15);\n",
       "      filter: drop-shadow(0px 1px 2px rgba(0, 0, 0, 0.3));\n",
       "      fill: #FFFFFF;\n",
       "    }\n",
       "  </style>\n",
       "\n",
       "      <script>\n",
       "        const buttonEl =\n",
       "          document.querySelector('#df-f6f6249c-0f30-422a-b6d6-b045622e96d0 button.colab-df-convert');\n",
       "        buttonEl.style.display =\n",
       "          google.colab.kernel.accessAllowed ? 'block' : 'none';\n",
       "\n",
       "        async function convertToInteractive(key) {\n",
       "          const element = document.querySelector('#df-f6f6249c-0f30-422a-b6d6-b045622e96d0');\n",
       "          const dataTable =\n",
       "            await google.colab.kernel.invokeFunction('convertToInteractive',\n",
       "                                                     [key], {});\n",
       "          if (!dataTable) return;\n",
       "\n",
       "          const docLinkHtml = 'Like what you see? Visit the ' +\n",
       "            '<a target=\"_blank\" href=https://colab.research.google.com/notebooks/data_table.ipynb>data table notebook</a>'\n",
       "            + ' to learn more about interactive tables.';\n",
       "          element.innerHTML = '';\n",
       "          dataTable['output_type'] = 'display_data';\n",
       "          await google.colab.output.renderOutput(dataTable, element);\n",
       "          const docLink = document.createElement('div');\n",
       "          docLink.innerHTML = docLinkHtml;\n",
       "          element.appendChild(docLink);\n",
       "        }\n",
       "      </script>\n",
       "    </div>\n",
       "  </div>\n",
       "  "
      ],
      "text/plain": [
       "                        user_id  time_/WatchPlayerPageRoute  \\\n",
       "0  7YeJbYtvO8dbCXvVAVOCUy6s7203                     22462.0   \n",
       "1  V4cQo7s3YUfWEnHi1lNAiGiGZFj1                    471422.0   \n",
       "2  Eh1vAmoTEydpiXbnQn4dZ3l4Fft1                     49380.0   \n",
       "3  v4OZ83S9KnNOfPksM8CGhlaOVVr1                     15605.0   \n",
       "4  CypLe3JAHeRTMcWMupJJmH7R1PO2                    275716.0   \n",
       "\n",
       "   time_count_/WatchPlayerPageRoute  time_Chat  time_count_Chat  time_Gallery  \\\n",
       "0                               9.0   310737.0             60.0      131009.0   \n",
       "1                              22.0   215152.0             52.0       57178.0   \n",
       "2                              14.0   629218.0             84.0       18974.0   \n",
       "3                               3.0   762672.0            117.0       56342.0   \n",
       "4                              24.0   108371.0             36.0      117181.0   \n",
       "\n",
       "   time_count_Gallery  time_CreateMemory  time_count_CreateMemory  \\\n",
       "0                28.0            23491.0                      4.0   \n",
       "1                16.0           115224.0                      8.0   \n",
       "2                 6.0                0.0                      0.0   \n",
       "3                 7.0            67712.0                      5.0   \n",
       "4                15.0                0.0                      0.0   \n",
       "\n",
       "   time_HomePage  ...  time_count_Map  time_Note  time_count_Note  \\\n",
       "0       149932.0  ...             6.0        0.0              0.0   \n",
       "1       211730.0  ...            28.0        0.0              0.0   \n",
       "2       133460.0  ...            32.0        0.0              0.0   \n",
       "3       207601.0  ...            21.0        0.0              0.0   \n",
       "4        55061.0  ...             4.0        0.0              0.0   \n",
       "\n",
       "   time_Timeline  time_count_Timeline  time_Tink  time_count_Tink  time_Voice  \\\n",
       "0       250154.0                 37.0     2009.0              1.0         0.0   \n",
       "1        48764.0                 12.0     4006.0              2.0         0.0   \n",
       "2        26658.0                  6.0     4006.0              2.0         0.0   \n",
       "3        16965.0                  6.0     8011.0              5.0         0.0   \n",
       "4        18973.0                 10.0     2003.0              1.0      6476.0   \n",
       "\n",
       "   time_count_Voice  day  \n",
       "0               0.0    0  \n",
       "1               0.0   27  \n",
       "2               0.0   12  \n",
       "3               0.0   18  \n",
       "4               5.0    0  \n",
       "\n",
       "[5 rows x 22 columns]"
      ]
     },
     "execution_count": 19,
     "metadata": {},
     "output_type": "execute_result"
    }
   ],
   "source": [
    "examine2.head(5)"
   ]
  },
  {
   "cell_type": "markdown",
   "metadata": {
    "id": "aV3-2QaMUFJD"
   },
   "source": [
    "Visualize. First, we plot the targeted data from above columns"
   ]
  },
  {
   "cell_type": "code",
   "execution_count": 20,
   "metadata": {
    "colab": {
     "base_uri": "https://localhost:8080/",
     "height": 282
    },
    "id": "9L3Qfjbn5HsC",
    "outputId": "1f135534-e01a-456d-ad8c-7e762a4cfe43"
   },
   "outputs": [
    {
     "data": {
      "text/plain": [
       "<matplotlib.axes._subplots.AxesSubplot at 0x7fa2b91a2910>"
      ]
     },
     "execution_count": 20,
     "metadata": {},
     "output_type": "execute_result"
    },
    {
     "data": {
      "image/png": "[encoded data removed]",
      "text/plain": [
       "<Figure size 432x288 with 1 Axes>"
      ]
     },
     "metadata": {
      "needs_background": "light"
     },
     "output_type": "display_data"
    }
   ],
   "source": [
    "examine2.plot(y = 'day', kind='hist')\n",
    "# There is some thing happening in range 40s. Let's explore why"
   ]
  },
  {
   "cell_type": "code",
   "execution_count": 39,
   "metadata": {
    "colab": {
     "base_uri": "https://localhost:8080/",
     "height": 206
    },
    "id": "T7e4Fojarrz7",
    "outputId": "bded5211-b506-4df9-d762-764ed8bac1de"
   },
   "outputs": [
    {
     "data": {
      "text/html": [
       "\n",
       "  <div id=\"df-1e5f7cba-8447-4c48-9308-f47e1ad19c44\">\n",
       "    <div class=\"colab-df-container\">\n",
       "      <div>\n",
       "<style scoped>\n",
       "    .dataframe tbody tr th:only-of-type {\n",
       "        vertical-align: middle;\n",
       "    }\n",
       "\n",
       "    .dataframe tbody tr th {\n",
       "        vertical-align: top;\n",
       "    }\n",
       "\n",
       "    .dataframe thead th {\n",
       "        text-align: right;\n",
       "    }\n",
       "</style>\n",
       "<table border=\"1\" class=\"dataframe\">\n",
       "  <thead>\n",
       "    <tr style=\"text-align: right;\">\n",
       "      <th></th>\n",
       "      <th>date_first</th>\n",
       "      <th>user_id</th>\n",
       "    </tr>\n",
       "  </thead>\n",
       "  <tbody>\n",
       "    <tr>\n",
       "      <th>83</th>\n",
       "      <td>2022-07-23</td>\n",
       "      <td>17453</td>\n",
       "    </tr>\n",
       "    <tr>\n",
       "      <th>77</th>\n",
       "      <td>2022-07-17</td>\n",
       "      <td>13478</td>\n",
       "    </tr>\n",
       "    <tr>\n",
       "      <th>84</th>\n",
       "      <td>2022-07-24</td>\n",
       "      <td>5356</td>\n",
       "    </tr>\n",
       "    <tr>\n",
       "      <th>82</th>\n",
       "      <td>2022-07-22</td>\n",
       "      <td>5184</td>\n",
       "    </tr>\n",
       "    <tr>\n",
       "      <th>78</th>\n",
       "      <td>2022-07-18</td>\n",
       "      <td>3993</td>\n",
       "    </tr>\n",
       "  </tbody>\n",
       "</table>\n",
       "</div>\n",
       "      <button class=\"colab-df-convert\" onclick=\"convertToInteractive('df-1e5f7cba-8447-4c48-9308-f47e1ad19c44')\"\n",
       "              title=\"Convert this dataframe to an interactive table.\"\n",
       "              style=\"display:none;\">\n",
       "        \n",
       "  <svg xmlns=\"http://www.w3.org/2000/svg\" height=\"24px\"viewBox=\"0 0 24 24\"\n",
       "       width=\"24px\">\n",
       "    <path d=\"M0 0h24v24H0V0z\" fill=\"none\"/>\n",
       "    <path d=\"M18.56 5.44l.94 2.06.94-2.06 2.06-.94-2.06-.94-.94-2.06-.94 2.06-2.06.94zm-11 1L8.5 8.5l.94-2.06 2.06-.94-2.06-.94L8.5 2.5l-.94 2.06-2.06.94zm10 10l.94 2.06.94-2.06 2.06-.94-2.06-.94-.94-2.06-.94 2.06-2.06.94z\"/><path d=\"M17.41 7.96l-1.37-1.37c-.4-.4-.92-.59-1.43-.59-.52 0-1.04.2-1.43.59L10.3 9.45l-7.72 7.72c-.78.78-.78 2.05 0 2.83L4 21.41c.39.39.9.59 1.41.59.51 0 1.02-.2 1.41-.59l7.78-7.78 2.81-2.81c.8-.78.8-2.07 0-2.86zM5.41 20L4 18.59l7.72-7.72 1.47 1.35L5.41 20z\"/>\n",
       "  </svg>\n",
       "      </button>\n",
       "      \n",
       "  <style>\n",
       "    .colab-df-container {\n",
       "      display:flex;\n",
       "      flex-wrap:wrap;\n",
       "      gap: 12px;\n",
       "    }\n",
       "\n",
       "    .colab-df-convert {\n",
       "      background-color: #E8F0FE;\n",
       "      border: none;\n",
       "      border-radius: 50%;\n",
       "      cursor: pointer;\n",
       "      display: none;\n",
       "      fill: #1967D2;\n",
       "      height: 32px;\n",
       "      padding: 0 0 0 0;\n",
       "      width: 32px;\n",
       "    }\n",
       "\n",
       "    .colab-df-convert:hover {\n",
       "      background-color: #E2EBFA;\n",
       "      box-shadow: 0px 1px 2px rgba(60, 64, 67, 0.3), 0px 1px 3px 1px rgba(60, 64, 67, 0.15);\n",
       "      fill: #174EA6;\n",
       "    }\n",
       "\n",
       "    [theme=dark] .colab-df-convert {\n",
       "      background-color: #3B4455;\n",
       "      fill: #D2E3FC;\n",
       "    }\n",
       "\n",
       "    [theme=dark] .colab-df-convert:hover {\n",
       "      background-color: #434B5C;\n",
       "      box-shadow: 0px 1px 3px 1px rgba(0, 0, 0, 0.15);\n",
       "      filter: drop-shadow(0px 1px 2px rgba(0, 0, 0, 0.3));\n",
       "      fill: #FFFFFF;\n",
       "    }\n",
       "  </style>\n",
       "\n",
       "      <script>\n",
       "        const buttonEl =\n",
       "          document.querySelector('#df-1e5f7cba-8447-4c48-9308-f47e1ad19c44 button.colab-df-convert');\n",
       "        buttonEl.style.display =\n",
       "          google.colab.kernel.accessAllowed ? 'block' : 'none';\n",
       "\n",
       "        async function convertToInteractive(key) {\n",
       "          const element = document.querySelector('#df-1e5f7cba-8447-4c48-9308-f47e1ad19c44');\n",
       "          const dataTable =\n",
       "            await google.colab.kernel.invokeFunction('convertToInteractive',\n",
       "                                                     [key], {});\n",
       "          if (!dataTable) return;\n",
       "\n",
       "          const docLinkHtml = 'Like what you see? Visit the ' +\n",
       "            '<a target=\"_blank\" href=https://colab.research.google.com/notebooks/data_table.ipynb>data table notebook</a>'\n",
       "            + ' to learn more about interactive tables.';\n",
       "          element.innerHTML = '';\n",
       "          dataTable['output_type'] = 'display_data';\n",
       "          await google.colab.output.renderOutput(dataTable, element);\n",
       "          const docLink = document.createElement('div');\n",
       "          docLink.innerHTML = docLinkHtml;\n",
       "          element.appendChild(docLink);\n",
       "        }\n",
       "      </script>\n",
       "    </div>\n",
       "  </div>\n",
       "  "
      ],
      "text/plain": [
       "    date_first  user_id\n",
       "83  2022-07-23    17453\n",
       "77  2022-07-17    13478\n",
       "84  2022-07-24     5356\n",
       "82  2022-07-22     5184\n",
       "78  2022-07-18     3993"
      ]
     },
     "execution_count": 39,
     "metadata": {},
     "output_type": "execute_result"
    }
   ],
   "source": [
    "tmp = alldata.groupby(['user_id', 'date_first'], as_index=False).min()[['user_id', 'date_first']].groupby(['date_first'], as_index=False).count()\n",
    "tmp.nlargest(5, 'user_id')"
   ]
  },
  {
   "cell_type": "markdown",
   "metadata": {
    "id": "zkH2f2WOgVhm"
   },
   "source": [
    "Ah, it turns out about 40 days ago, there is a huge wave of users, this creates a threshold in the max_days used by the users"
   ]
  },
  {
   "cell_type": "markdown",
   "metadata": {
    "id": "t71WddPKg-KA"
   },
   "source": [
    "Now, let's plot if the features are discovered by the user, how many more days they will spend on the app comparing to not discovering the features"
   ]
  },
  {
   "cell_type": "code",
   "execution_count": 40,
   "metadata": {
    "colab": {
     "base_uri": "https://localhost:8080/",
     "height": 300
    },
    "id": "Sr974wlcmGJR",
    "outputId": "56ff7231-4021-4452-d8f0-90b89ed71814"
   },
   "outputs": [
    {
     "data": {
      "text/html": [
       "\n",
       "  <div id=\"df-a750b350-1858-42d5-9c74-c851f8823de5\">\n",
       "    <div class=\"colab-df-container\">\n",
       "      <div>\n",
       "<style scoped>\n",
       "    .dataframe tbody tr th:only-of-type {\n",
       "        vertical-align: middle;\n",
       "    }\n",
       "\n",
       "    .dataframe tbody tr th {\n",
       "        vertical-align: top;\n",
       "    }\n",
       "\n",
       "    .dataframe thead th {\n",
       "        text-align: right;\n",
       "    }\n",
       "</style>\n",
       "<table border=\"1\" class=\"dataframe\">\n",
       "  <thead>\n",
       "    <tr style=\"text-align: right;\">\n",
       "      <th></th>\n",
       "      <th>user_id</th>\n",
       "      <th>time_/WatchPlayerPageRoute</th>\n",
       "      <th>time_count_/WatchPlayerPageRoute</th>\n",
       "      <th>time_Chat</th>\n",
       "      <th>time_count_Chat</th>\n",
       "      <th>time_Gallery</th>\n",
       "      <th>time_count_Gallery</th>\n",
       "      <th>time_CreateMemory</th>\n",
       "      <th>time_count_CreateMemory</th>\n",
       "      <th>time_HomePage</th>\n",
       "      <th>...</th>\n",
       "      <th>usage_Chat</th>\n",
       "      <th>usage_Gallery</th>\n",
       "      <th>usage_CreateMemory</th>\n",
       "      <th>usage_HomePage</th>\n",
       "      <th>usage_Map</th>\n",
       "      <th>usage_Note</th>\n",
       "      <th>usage_Timeline</th>\n",
       "      <th>usage_Tink</th>\n",
       "      <th>usage_Voice</th>\n",
       "      <th>category</th>\n",
       "    </tr>\n",
       "  </thead>\n",
       "  <tbody>\n",
       "    <tr>\n",
       "      <th>0</th>\n",
       "      <td>7YeJbYtvO8dbCXvVAVOCUy6s7203</td>\n",
       "      <td>22462.0</td>\n",
       "      <td>9.0</td>\n",
       "      <td>310737.0</td>\n",
       "      <td>60.0</td>\n",
       "      <td>131009.0</td>\n",
       "      <td>28.0</td>\n",
       "      <td>23491.0</td>\n",
       "      <td>4.0</td>\n",
       "      <td>149932.0</td>\n",
       "      <td>...</td>\n",
       "      <td>1</td>\n",
       "      <td>1</td>\n",
       "      <td>1</td>\n",
       "      <td>1</td>\n",
       "      <td>1</td>\n",
       "      <td>0</td>\n",
       "      <td>1</td>\n",
       "      <td>1</td>\n",
       "      <td>0</td>\n",
       "      <td>0</td>\n",
       "    </tr>\n",
       "    <tr>\n",
       "      <th>1</th>\n",
       "      <td>V4cQo7s3YUfWEnHi1lNAiGiGZFj1</td>\n",
       "      <td>471422.0</td>\n",
       "      <td>22.0</td>\n",
       "      <td>215152.0</td>\n",
       "      <td>52.0</td>\n",
       "      <td>57178.0</td>\n",
       "      <td>16.0</td>\n",
       "      <td>115224.0</td>\n",
       "      <td>8.0</td>\n",
       "      <td>211730.0</td>\n",
       "      <td>...</td>\n",
       "      <td>1</td>\n",
       "      <td>1</td>\n",
       "      <td>1</td>\n",
       "      <td>1</td>\n",
       "      <td>1</td>\n",
       "      <td>0</td>\n",
       "      <td>1</td>\n",
       "      <td>1</td>\n",
       "      <td>0</td>\n",
       "      <td>0</td>\n",
       "    </tr>\n",
       "    <tr>\n",
       "      <th>2</th>\n",
       "      <td>Eh1vAmoTEydpiXbnQn4dZ3l4Fft1</td>\n",
       "      <td>49380.0</td>\n",
       "      <td>14.0</td>\n",
       "      <td>629218.0</td>\n",
       "      <td>84.0</td>\n",
       "      <td>18974.0</td>\n",
       "      <td>6.0</td>\n",
       "      <td>0.0</td>\n",
       "      <td>0.0</td>\n",
       "      <td>133460.0</td>\n",
       "      <td>...</td>\n",
       "      <td>1</td>\n",
       "      <td>1</td>\n",
       "      <td>0</td>\n",
       "      <td>1</td>\n",
       "      <td>1</td>\n",
       "      <td>0</td>\n",
       "      <td>1</td>\n",
       "      <td>1</td>\n",
       "      <td>0</td>\n",
       "      <td>0</td>\n",
       "    </tr>\n",
       "    <tr>\n",
       "      <th>3</th>\n",
       "      <td>v4OZ83S9KnNOfPksM8CGhlaOVVr1</td>\n",
       "      <td>15605.0</td>\n",
       "      <td>3.0</td>\n",
       "      <td>762672.0</td>\n",
       "      <td>117.0</td>\n",
       "      <td>56342.0</td>\n",
       "      <td>7.0</td>\n",
       "      <td>67712.0</td>\n",
       "      <td>5.0</td>\n",
       "      <td>207601.0</td>\n",
       "      <td>...</td>\n",
       "      <td>1</td>\n",
       "      <td>1</td>\n",
       "      <td>1</td>\n",
       "      <td>1</td>\n",
       "      <td>1</td>\n",
       "      <td>0</td>\n",
       "      <td>1</td>\n",
       "      <td>1</td>\n",
       "      <td>0</td>\n",
       "      <td>0</td>\n",
       "    </tr>\n",
       "    <tr>\n",
       "      <th>4</th>\n",
       "      <td>CypLe3JAHeRTMcWMupJJmH7R1PO2</td>\n",
       "      <td>275716.0</td>\n",
       "      <td>24.0</td>\n",
       "      <td>108371.0</td>\n",
       "      <td>36.0</td>\n",
       "      <td>117181.0</td>\n",
       "      <td>15.0</td>\n",
       "      <td>0.0</td>\n",
       "      <td>0.0</td>\n",
       "      <td>55061.0</td>\n",
       "      <td>...</td>\n",
       "      <td>1</td>\n",
       "      <td>1</td>\n",
       "      <td>0</td>\n",
       "      <td>1</td>\n",
       "      <td>1</td>\n",
       "      <td>0</td>\n",
       "      <td>1</td>\n",
       "      <td>1</td>\n",
       "      <td>1</td>\n",
       "      <td>&gt;=103992.40000000005</td>\n",
       "    </tr>\n",
       "  </tbody>\n",
       "</table>\n",
       "<p>5 rows × 33 columns</p>\n",
       "</div>\n",
       "      <button class=\"colab-df-convert\" onclick=\"convertToInteractive('df-a750b350-1858-42d5-9c74-c851f8823de5')\"\n",
       "              title=\"Convert this dataframe to an interactive table.\"\n",
       "              style=\"display:none;\">\n",
       "        \n",
       "  <svg xmlns=\"http://www.w3.org/2000/svg\" height=\"24px\"viewBox=\"0 0 24 24\"\n",
       "       width=\"24px\">\n",
       "    <path d=\"M0 0h24v24H0V0z\" fill=\"none\"/>\n",
       "    <path d=\"M18.56 5.44l.94 2.06.94-2.06 2.06-.94-2.06-.94-.94-2.06-.94 2.06-2.06.94zm-11 1L8.5 8.5l.94-2.06 2.06-.94-2.06-.94L8.5 2.5l-.94 2.06-2.06.94zm10 10l.94 2.06.94-2.06 2.06-.94-2.06-.94-.94-2.06-.94 2.06-2.06.94z\"/><path d=\"M17.41 7.96l-1.37-1.37c-.4-.4-.92-.59-1.43-.59-.52 0-1.04.2-1.43.59L10.3 9.45l-7.72 7.72c-.78.78-.78 2.05 0 2.83L4 21.41c.39.39.9.59 1.41.59.51 0 1.02-.2 1.41-.59l7.78-7.78 2.81-2.81c.8-.78.8-2.07 0-2.86zM5.41 20L4 18.59l7.72-7.72 1.47 1.35L5.41 20z\"/>\n",
       "  </svg>\n",
       "      </button>\n",
       "      \n",
       "  <style>\n",
       "    .colab-df-container {\n",
       "      display:flex;\n",
       "      flex-wrap:wrap;\n",
       "      gap: 12px;\n",
       "    }\n",
       "\n",
       "    .colab-df-convert {\n",
       "      background-color: #E8F0FE;\n",
       "      border: none;\n",
       "      border-radius: 50%;\n",
       "      cursor: pointer;\n",
       "      display: none;\n",
       "      fill: #1967D2;\n",
       "      height: 32px;\n",
       "      padding: 0 0 0 0;\n",
       "      width: 32px;\n",
       "    }\n",
       "\n",
       "    .colab-df-convert:hover {\n",
       "      background-color: #E2EBFA;\n",
       "      box-shadow: 0px 1px 2px rgba(60, 64, 67, 0.3), 0px 1px 3px 1px rgba(60, 64, 67, 0.15);\n",
       "      fill: #174EA6;\n",
       "    }\n",
       "\n",
       "    [theme=dark] .colab-df-convert {\n",
       "      background-color: #3B4455;\n",
       "      fill: #D2E3FC;\n",
       "    }\n",
       "\n",
       "    [theme=dark] .colab-df-convert:hover {\n",
       "      background-color: #434B5C;\n",
       "      box-shadow: 0px 1px 3px 1px rgba(0, 0, 0, 0.15);\n",
       "      filter: drop-shadow(0px 1px 2px rgba(0, 0, 0, 0.3));\n",
       "      fill: #FFFFFF;\n",
       "    }\n",
       "  </style>\n",
       "\n",
       "      <script>\n",
       "        const buttonEl =\n",
       "          document.querySelector('#df-a750b350-1858-42d5-9c74-c851f8823de5 button.colab-df-convert');\n",
       "        buttonEl.style.display =\n",
       "          google.colab.kernel.accessAllowed ? 'block' : 'none';\n",
       "\n",
       "        async function convertToInteractive(key) {\n",
       "          const element = document.querySelector('#df-a750b350-1858-42d5-9c74-c851f8823de5');\n",
       "          const dataTable =\n",
       "            await google.colab.kernel.invokeFunction('convertToInteractive',\n",
       "                                                     [key], {});\n",
       "          if (!dataTable) return;\n",
       "\n",
       "          const docLinkHtml = 'Like what you see? Visit the ' +\n",
       "            '<a target=\"_blank\" href=https://colab.research.google.com/notebooks/data_table.ipynb>data table notebook</a>'\n",
       "            + ' to learn more about interactive tables.';\n",
       "          element.innerHTML = '';\n",
       "          dataTable['output_type'] = 'display_data';\n",
       "          await google.colab.output.renderOutput(dataTable, element);\n",
       "          const docLink = document.createElement('div');\n",
       "          docLink.innerHTML = docLinkHtml;\n",
       "          element.appendChild(docLink);\n",
       "        }\n",
       "      </script>\n",
       "    </div>\n",
       "  </div>\n",
       "  "
      ],
      "text/plain": [
       "                        user_id  time_/WatchPlayerPageRoute  \\\n",
       "0  7YeJbYtvO8dbCXvVAVOCUy6s7203                     22462.0   \n",
       "1  V4cQo7s3YUfWEnHi1lNAiGiGZFj1                    471422.0   \n",
       "2  Eh1vAmoTEydpiXbnQn4dZ3l4Fft1                     49380.0   \n",
       "3  v4OZ83S9KnNOfPksM8CGhlaOVVr1                     15605.0   \n",
       "4  CypLe3JAHeRTMcWMupJJmH7R1PO2                    275716.0   \n",
       "\n",
       "   time_count_/WatchPlayerPageRoute  time_Chat  time_count_Chat  time_Gallery  \\\n",
       "0                               9.0   310737.0             60.0      131009.0   \n",
       "1                              22.0   215152.0             52.0       57178.0   \n",
       "2                              14.0   629218.0             84.0       18974.0   \n",
       "3                               3.0   762672.0            117.0       56342.0   \n",
       "4                              24.0   108371.0             36.0      117181.0   \n",
       "\n",
       "   time_count_Gallery  time_CreateMemory  time_count_CreateMemory  \\\n",
       "0                28.0            23491.0                      4.0   \n",
       "1                16.0           115224.0                      8.0   \n",
       "2                 6.0                0.0                      0.0   \n",
       "3                 7.0            67712.0                      5.0   \n",
       "4                15.0                0.0                      0.0   \n",
       "\n",
       "   time_HomePage  ...  usage_Chat  usage_Gallery  usage_CreateMemory  \\\n",
       "0       149932.0  ...           1              1                   1   \n",
       "1       211730.0  ...           1              1                   1   \n",
       "2       133460.0  ...           1              1                   0   \n",
       "3       207601.0  ...           1              1                   1   \n",
       "4        55061.0  ...           1              1                   0   \n",
       "\n",
       "   usage_HomePage  usage_Map  usage_Note  usage_Timeline  usage_Tink  \\\n",
       "0               1          1           0               1           1   \n",
       "1               1          1           0               1           1   \n",
       "2               1          1           0               1           1   \n",
       "3               1          1           0               1           1   \n",
       "4               1          1           0               1           1   \n",
       "\n",
       "   usage_Voice              category  \n",
       "0            0                     0  \n",
       "1            0                     0  \n",
       "2            0                     0  \n",
       "3            0                     0  \n",
       "4            1  >=103992.40000000005  \n",
       "\n",
       "[5 rows x 33 columns]"
      ]
     },
     "execution_count": 40,
     "metadata": {},
     "output_type": "execute_result"
    }
   ],
   "source": [
    "import seaborn as sns\n",
    "for i in features:\n",
    "  examine2['usage_' + i ] = examine2['time_count_' + i].apply(lambda x: 0 if x == 0 else 1)\n",
    "examine2.head(5)"
   ]
  },
  {
   "cell_type": "code",
   "execution_count": 41,
   "metadata": {
    "colab": {
     "base_uri": "https://localhost:8080/",
     "height": 297
    },
    "id": "UKoU7fo1Ezx3",
    "outputId": "c29e8e83-4f14-4d26-ff6f-e45ab3c60b91"
   },
   "outputs": [
    {
     "data": {
      "text/plain": [
       "<matplotlib.axes._subplots.AxesSubplot at 0x7fa2b13b0fd0>"
      ]
     },
     "execution_count": 41,
     "metadata": {},
     "output_type": "execute_result"
    },
    {
     "data": {
      "image/png": "[encoded data removed]",
      "text/plain": [
       "<Figure size 432x288 with 1 Axes>"
      ]
     },
     "metadata": {
      "needs_background": "light"
     },
     "output_type": "display_data"
    }
   ],
   "source": [
    "sns.boxplot(x = examine2['usage_/WatchPlayerPageRoute'], y= examine2['day'])"
   ]
  },
  {
   "cell_type": "code",
   "execution_count": 42,
   "metadata": {
    "colab": {
     "base_uri": "https://localhost:8080/",
     "height": 297
    },
    "id": "MmhRRId4E22P",
    "outputId": "42176315-6627-4730-c546-053fc28c6e7b"
   },
   "outputs": [
    {
     "data": {
      "text/plain": [
       "<matplotlib.axes._subplots.AxesSubplot at 0x7fa2b0ea3f90>"
      ]
     },
     "execution_count": 42,
     "metadata": {},
     "output_type": "execute_result"
    },
    {
     "data": {
      "image/png": "[encoded data removed]",
      "text/plain": [
       "<Figure size 432x288 with 1 Axes>"
      ]
     },
     "metadata": {
      "needs_background": "light"
     },
     "output_type": "display_data"
    }
   ],
   "source": [
    "sns.boxplot(x = examine2['usage_CreateMemory'], y= examine2['day'])"
   ]
  },
  {
   "cell_type": "code",
   "execution_count": 43,
   "metadata": {
    "colab": {
     "base_uri": "https://localhost:8080/",
     "height": 297
    },
    "id": "mufMNgQWE26V",
    "outputId": "7d8bd65f-7dfe-4486-958f-0ccda9b603c8"
   },
   "outputs": [
    {
     "data": {
      "text/plain": [
       "<matplotlib.axes._subplots.AxesSubplot at 0x7fa2b0e21490>"
      ]
     },
     "execution_count": 43,
     "metadata": {},
     "output_type": "execute_result"
    },
    {
     "data": {
      "image/png": "[encoded data removed]",
      "text/plain": [
       "<Figure size 432x288 with 1 Axes>"
      ]
     },
     "metadata": {
      "needs_background": "light"
     },
     "output_type": "display_data"
    }
   ],
   "source": [
    "sns.boxplot(x = examine2['usage_Gallery'], y= examine2['day'])"
   ]
  },
  {
   "cell_type": "code",
   "execution_count": 45,
   "metadata": {
    "colab": {
     "base_uri": "https://localhost:8080/",
     "height": 297
    },
    "id": "uX2UyzPbHEKR",
    "outputId": "020c2432-36b6-4610-8fde-6a2157270631"
   },
   "outputs": [
    {
     "data": {
      "text/plain": [
       "<matplotlib.axes._subplots.AxesSubplot at 0x7fa2b0f6c090>"
      ]
     },
     "execution_count": 45,
     "metadata": {},
     "output_type": "execute_result"
    },
    {
     "data": {
      "image/png": "[encoded data removed]",
      "text/plain": [
       "<Figure size 432x288 with 1 Axes>"
      ]
     },
     "metadata": {
      "needs_background": "light"
     },
     "output_type": "display_data"
    }
   ],
   "source": [
    "sns.boxplot(x = examine2['usage_Map'], y= examine2['day'])"
   ]
  },
  {
   "cell_type": "code",
   "execution_count": 46,
   "metadata": {
    "colab": {
     "base_uri": "https://localhost:8080/",
     "height": 297
    },
    "id": "YtkIY8QXHgJB",
    "outputId": "8bc545c5-fc1f-4d8b-86fa-3e4670203308"
   },
   "outputs": [
    {
     "data": {
      "text/plain": [
       "<matplotlib.axes._subplots.AxesSubplot at 0x7fa2b0dc2d10>"
      ]
     },
     "execution_count": 46,
     "metadata": {},
     "output_type": "execute_result"
    },
    {
     "data": {
      "image/png": "[encoded data removed]",
      "text/plain": [
       "<Figure size 432x288 with 1 Axes>"
      ]
     },
     "metadata": {
      "needs_background": "light"
     },
     "output_type": "display_data"
    }
   ],
   "source": [
    "sns.boxplot(x = examine2['usage_Timeline'], y= examine2['day'])"
   ]
  },
  {
   "cell_type": "code",
   "execution_count": 47,
   "metadata": {
    "colab": {
     "base_uri": "https://localhost:8080/",
     "height": 297
    },
    "id": "Gwwemh19HgPU",
    "outputId": "a7d91219-0c7d-4766-efc9-00d5fda4eaa8"
   },
   "outputs": [
    {
     "data": {
      "text/plain": [
       "<matplotlib.axes._subplots.AxesSubplot at 0x7fa2b0d52950>"
      ]
     },
     "execution_count": 47,
     "metadata": {},
     "output_type": "execute_result"
    },
    {
     "data": {
      "image/png": "[encoded data removed]",
      "text/plain": [
       "<Figure size 432x288 with 1 Axes>"
      ]
     },
     "metadata": {
      "needs_background": "light"
     },
     "output_type": "display_data"
    }
   ],
   "source": [
    "sns.boxplot(x = examine2['usage_Tink'], y= examine2['day'])"
   ]
  },
  {
   "cell_type": "code",
   "execution_count": 48,
   "metadata": {
    "colab": {
     "base_uri": "https://localhost:8080/",
     "height": 297
    },
    "id": "MyXVyt1BrQxH",
    "outputId": "a26be8ad-e8f6-41bd-b4d8-a11c5616393f"
   },
   "outputs": [
    {
     "data": {
      "text/plain": [
       "<matplotlib.axes._subplots.AxesSubplot at 0x7fa2b0cca5d0>"
      ]
     },
     "execution_count": 48,
     "metadata": {},
     "output_type": "execute_result"
    },
    {
     "data": {
      "image/png": "[encoded data removed]",
      "text/plain": [
       "<Figure size 432x288 with 1 Axes>"
      ]
     },
     "metadata": {
      "needs_background": "light"
     },
     "output_type": "display_data"
    }
   ],
   "source": [
    "sns.boxplot(x = examine2['usage_Note'], y= examine2['day'])"
   ]
  },
  {
   "cell_type": "code",
   "execution_count": 49,
   "metadata": {
    "colab": {
     "base_uri": "https://localhost:8080/",
     "height": 297
    },
    "id": "aj1k-kJF2Cxd",
    "outputId": "6b16137a-72e3-451d-ef63-b1593e14b16b"
   },
   "outputs": [
    {
     "data": {
      "text/plain": [
       "<matplotlib.axes._subplots.AxesSubplot at 0x7fa2b0d4ef50>"
      ]
     },
     "execution_count": 49,
     "metadata": {},
     "output_type": "execute_result"
    },
    {
     "data": {
      "image/png": "[encoded data removed]",
      "text/plain": [
       "<Figure size 432x288 with 1 Axes>"
      ]
     },
     "metadata": {
      "needs_background": "light"
     },
     "output_type": "display_data"
    }
   ],
   "source": [
    "sns.boxplot(x = examine2['usage_Chat'], y= examine2['day'])"
   ]
  },
  {
   "cell_type": "code",
   "execution_count": 50,
   "metadata": {
    "colab": {
     "base_uri": "https://localhost:8080/",
     "height": 297
    },
    "id": "2jzKT8uB3bHM",
    "outputId": "fa9d2c06-ac86-4788-a0e3-5cb6922d7809"
   },
   "outputs": [
    {
     "data": {
      "text/plain": [
       "<matplotlib.axes._subplots.AxesSubplot at 0x7fa2b0be5bd0>"
      ]
     },
     "execution_count": 50,
     "metadata": {},
     "output_type": "execute_result"
    },
    {
     "data": {
      "image/png": "[encoded data removed]",
      "text/plain": [
       "<Figure size 432x288 with 1 Axes>"
      ]
     },
     "metadata": {
      "needs_background": "light"
     },
     "output_type": "display_data"
    }
   ],
   "source": [
    "sns.boxplot(x = examine2['usage_Voice'], y= examine2['day'])"
   ]
  },
  {
   "cell_type": "markdown",
   "metadata": {
    "id": "QW-0Ql5Ahbnb"
   },
   "source": [
    "We see that most features discovered all have signifcant increment in users staying in the app. Only Voice feature is having some trouble in keeping the users "
   ]
  },
  {
   "cell_type": "markdown",
   "metadata": {
    "id": "nC5zD5ftiBZH"
   },
   "source": [
    "Now, let's see how the days they stick with the app correlated with how much time they spend on exploring the features. We consider 2 things for each feature: count for the number of interactions user has with the feature, and time is the total time user spend in the feature"
   ]
  },
  {
   "cell_type": "code",
   "execution_count": 73,
   "metadata": {
    "id": "7U58WYTSL6w-"
   },
   "outputs": [],
   "source": [
    "def bar_continous_plot(df, feature, day):\n",
    "  df['category'] = [0]*df.shape[0]\n",
    "  for i in range(0, 7):\n",
    "    thresh1 = df[feature].quantile(i * 0.1)\n",
    "    thresh2 = df[feature].quantile((i+1) * 0.1)\n",
    "    df.loc[(df[feature] >=thresh1) & (df[feature]< thresh2) ,'category']  = thresh1\n",
    "  \n",
    "  return df.groupby(['category'], as_index=False).mean()\n"
   ]
  },
  {
   "cell_type": "code",
   "execution_count": 76,
   "metadata": {
    "colab": {
     "base_uri": "https://localhost:8080/",
     "height": 599
    },
    "id": "Sax1H7LhNdNk",
    "outputId": "38d7df1f-2a39-4138-c721-3cb0da0ef8d7"
   },
   "outputs": [
    {
     "name": "stderr",
     "output_type": "stream",
     "text": [
      "/usr/local/lib/python3.7/dist-packages/ipykernel_launcher.py:2: SettingWithCopyWarning: \n",
      "A value is trying to be set on a copy of a slice from a DataFrame.\n",
      "Try using .loc[row_indexer,col_indexer] = value instead\n",
      "\n",
      "See the caveats in the documentation: https://pandas.pydata.org/pandas-docs/stable/user_guide/indexing.html#returning-a-view-versus-a-copy\n",
      "  \n",
      "/usr/local/lib/python3.7/dist-packages/pandas/core/indexing.py:1817: SettingWithCopyWarning: \n",
      "A value is trying to be set on a copy of a slice from a DataFrame.\n",
      "Try using .loc[row_indexer,col_indexer] = value instead\n",
      "\n",
      "See the caveats in the documentation: https://pandas.pydata.org/pandas-docs/stable/user_guide/indexing.html#returning-a-view-versus-a-copy\n",
      "  self._setitem_single_column(loc, value, pi)\n"
     ]
    },
    {
     "data": {
      "text/plain": [
       "<matplotlib.axes._subplots.AxesSubplot at 0x7fa2ae4e2a90>"
      ]
     },
     "execution_count": 76,
     "metadata": {},
     "output_type": "execute_result"
    },
    {
     "data": {
      "image/png": "[encoded data removed]",
      "text/plain": [
       "<Figure size 432x288 with 1 Axes>"
      ]
     },
     "metadata": {
      "needs_background": "light"
     },
     "output_type": "display_data"
    }
   ],
   "source": [
    "xd = examine2[examine2['usage_Chat'] ==1]\n",
    "bar_continous_plot(xd, 'time_Chat', 'day').sort_values(by='category').plot.bar(x='category', y=['day'])"
   ]
  },
  {
   "cell_type": "code",
   "execution_count": 77,
   "metadata": {
    "colab": {
     "base_uri": "https://localhost:8080/",
     "height": 404
    },
    "id": "80V_pLXHI5LQ",
    "outputId": "5ff63fd9-d84a-461f-9569-a284d62ceb25"
   },
   "outputs": [
    {
     "name": "stderr",
     "output_type": "stream",
     "text": [
      "/usr/local/lib/python3.7/dist-packages/ipykernel_launcher.py:2: SettingWithCopyWarning: \n",
      "A value is trying to be set on a copy of a slice from a DataFrame.\n",
      "Try using .loc[row_indexer,col_indexer] = value instead\n",
      "\n",
      "See the caveats in the documentation: https://pandas.pydata.org/pandas-docs/stable/user_guide/indexing.html#returning-a-view-versus-a-copy\n",
      "  \n"
     ]
    },
    {
     "data": {
      "text/plain": [
       "<matplotlib.axes._subplots.AxesSubplot at 0x7fa2ae917a90>"
      ]
     },
     "execution_count": 77,
     "metadata": {},
     "output_type": "execute_result"
    },
    {
     "data": {
      "image/png": "[encoded data removed]",
      "text/plain": [
       "<Figure size 432x288 with 1 Axes>"
      ]
     },
     "metadata": {
      "needs_background": "light"
     },
     "output_type": "display_data"
    }
   ],
   "source": [
    "xd = examine2[examine2['usage_Chat'] ==1]\n",
    "bar_continous_plot(xd, 'time_count_Chat', 'day').sort_values(by='category').plot.bar(x='category', y=['day'])"
   ]
  },
  {
   "cell_type": "code",
   "execution_count": 78,
   "metadata": {
    "colab": {
     "base_uri": "https://localhost:8080/",
     "height": 433
    },
    "id": "gg9DjKreX1WK",
    "outputId": "a8fab647-62d2-4b25-df15-52d23152a2f3"
   },
   "outputs": [
    {
     "name": "stderr",
     "output_type": "stream",
     "text": [
      "/usr/local/lib/python3.7/dist-packages/ipykernel_launcher.py:2: SettingWithCopyWarning: \n",
      "A value is trying to be set on a copy of a slice from a DataFrame.\n",
      "Try using .loc[row_indexer,col_indexer] = value instead\n",
      "\n",
      "See the caveats in the documentation: https://pandas.pydata.org/pandas-docs/stable/user_guide/indexing.html#returning-a-view-versus-a-copy\n",
      "  \n"
     ]
    },
    {
     "data": {
      "text/plain": [
       "<matplotlib.axes._subplots.AxesSubplot at 0x7fa2ae4163d0>"
      ]
     },
     "execution_count": 78,
     "metadata": {},
     "output_type": "execute_result"
    },
    {
     "data": {
      "image/png": "[encoded data removed]",
      "text/plain": [
       "<Figure size 432x288 with 1 Axes>"
      ]
     },
     "metadata": {
      "needs_background": "light"
     },
     "output_type": "display_data"
    }
   ],
   "source": [
    "xd = examine2[examine2['usage_/WatchPlayerPageRoute'] ==1]\n",
    "bar_continous_plot(xd, 'time_/WatchPlayerPageRoute', 'day').sort_values(by='category').plot.bar(x='category', y=['day'])"
   ]
  },
  {
   "cell_type": "code",
   "execution_count": 79,
   "metadata": {
    "colab": {
     "base_uri": "https://localhost:8080/",
     "height": 398
    },
    "id": "qfKWzHNiVFLZ",
    "outputId": "b8350a26-259a-4dcb-c8f5-2e765a0d65e2"
   },
   "outputs": [
    {
     "name": "stderr",
     "output_type": "stream",
     "text": [
      "/usr/local/lib/python3.7/dist-packages/ipykernel_launcher.py:2: SettingWithCopyWarning: \n",
      "A value is trying to be set on a copy of a slice from a DataFrame.\n",
      "Try using .loc[row_indexer,col_indexer] = value instead\n",
      "\n",
      "See the caveats in the documentation: https://pandas.pydata.org/pandas-docs/stable/user_guide/indexing.html#returning-a-view-versus-a-copy\n",
      "  \n"
     ]
    },
    {
     "data": {
      "text/plain": [
       "<matplotlib.axes._subplots.AxesSubplot at 0x7fa2ae412bd0>"
      ]
     },
     "execution_count": 79,
     "metadata": {},
     "output_type": "execute_result"
    },
    {
     "data": {
      "image/png": "[encoded data removed]",
      "text/plain": [
       "<Figure size 432x288 with 1 Axes>"
      ]
     },
     "metadata": {
      "needs_background": "light"
     },
     "output_type": "display_data"
    }
   ],
   "source": [
    "xd = examine2[examine2['usage_/WatchPlayerPageRoute'] ==1]\n",
    "bar_continous_plot(xd, 'time_count_/WatchPlayerPageRoute', 'day').sort_values(by='category').plot.bar(x='category', y=['day'])"
   ]
  },
  {
   "cell_type": "code",
   "execution_count": 80,
   "metadata": {
    "colab": {
     "base_uri": "https://localhost:8080/",
     "height": 502
    },
    "id": "-PCTniLQVFO-",
    "outputId": "56a2dcfd-f204-4b36-afe6-0407c5ccf591"
   },
   "outputs": [
    {
     "name": "stderr",
     "output_type": "stream",
     "text": [
      "/usr/local/lib/python3.7/dist-packages/ipykernel_launcher.py:2: SettingWithCopyWarning: \n",
      "A value is trying to be set on a copy of a slice from a DataFrame.\n",
      "Try using .loc[row_indexer,col_indexer] = value instead\n",
      "\n",
      "See the caveats in the documentation: https://pandas.pydata.org/pandas-docs/stable/user_guide/indexing.html#returning-a-view-versus-a-copy\n",
      "  \n"
     ]
    },
    {
     "data": {
      "text/plain": [
       "<matplotlib.axes._subplots.AxesSubplot at 0x7fa2ae3183d0>"
      ]
     },
     "execution_count": 80,
     "metadata": {},
     "output_type": "execute_result"
    },
    {
     "data": {
      "image/png": "[encoded data removed]",
      "text/plain": [
       "<Figure size 432x288 with 1 Axes>"
      ]
     },
     "metadata": {
      "needs_background": "light"
     },
     "output_type": "display_data"
    }
   ],
   "source": [
    "xd = examine2[examine2['usage_CreateMemory'] ==1]\n",
    "bar_continous_plot(xd, 'time_CreateMemory', 'day').sort_values(by='category').plot.bar(x='category', y=['day'])"
   ]
  },
  {
   "cell_type": "code",
   "execution_count": 85,
   "metadata": {
    "colab": {
     "base_uri": "https://localhost:8080/",
     "height": 502
    },
    "id": "NFixSNs7ns81",
    "outputId": "bb2d2b22-f12a-4d01-ebba-ee48809e9905"
   },
   "outputs": [
    {
     "name": "stderr",
     "output_type": "stream",
     "text": [
      "/usr/local/lib/python3.7/dist-packages/ipykernel_launcher.py:2: SettingWithCopyWarning: \n",
      "A value is trying to be set on a copy of a slice from a DataFrame.\n",
      "Try using .loc[row_indexer,col_indexer] = value instead\n",
      "\n",
      "See the caveats in the documentation: https://pandas.pydata.org/pandas-docs/stable/user_guide/indexing.html#returning-a-view-versus-a-copy\n",
      "  \n",
      "/usr/local/lib/python3.7/dist-packages/pandas/core/indexing.py:1817: SettingWithCopyWarning: \n",
      "A value is trying to be set on a copy of a slice from a DataFrame.\n",
      "Try using .loc[row_indexer,col_indexer] = value instead\n",
      "\n",
      "See the caveats in the documentation: https://pandas.pydata.org/pandas-docs/stable/user_guide/indexing.html#returning-a-view-versus-a-copy\n",
      "  self._setitem_single_column(loc, value, pi)\n"
     ]
    },
    {
     "data": {
      "text/plain": [
       "<matplotlib.axes._subplots.AxesSubplot at 0x7fa2ae0e0150>"
      ]
     },
     "execution_count": 85,
     "metadata": {},
     "output_type": "execute_result"
    },
    {
     "data": {
      "image/png": "[encoded data removed]",
      "text/plain": [
       "<Figure size 432x288 with 1 Axes>"
      ]
     },
     "metadata": {
      "needs_background": "light"
     },
     "output_type": "display_data"
    }
   ],
   "source": [
    "bar_continous_plot(xd, 'time_count_CreateMemory', 'day').sort_values(by='category').plot.bar(x='category', y=['day'])"
   ]
  },
  {
   "cell_type": "markdown",
   "metadata": {
    "id": "3zpCMxR5r-D3"
   },
   "source": [
    "This feature, CreateMemory, seems to have only very few explorations and interactions (only 2 columns). It seems that users do not explore this feature enough, making the feature having no effect on longterm duration. This feature should be re-designed"
   ]
  },
  {
   "cell_type": "code",
   "execution_count": 86,
   "metadata": {
    "colab": {
     "base_uri": "https://localhost:8080/",
     "height": 501
    },
    "id": "ZBFZCAIzawH7",
    "outputId": "e8d393a2-6bc8-4b16-e367-54ed1a63676a"
   },
   "outputs": [
    {
     "name": "stderr",
     "output_type": "stream",
     "text": [
      "/usr/local/lib/python3.7/dist-packages/ipykernel_launcher.py:2: SettingWithCopyWarning: \n",
      "A value is trying to be set on a copy of a slice from a DataFrame.\n",
      "Try using .loc[row_indexer,col_indexer] = value instead\n",
      "\n",
      "See the caveats in the documentation: https://pandas.pydata.org/pandas-docs/stable/user_guide/indexing.html#returning-a-view-versus-a-copy\n",
      "  \n"
     ]
    },
    {
     "data": {
      "text/plain": [
       "<matplotlib.axes._subplots.AxesSubplot at 0x7fa2ae04da90>"
      ]
     },
     "execution_count": 86,
     "metadata": {},
     "output_type": "execute_result"
    },
    {
     "data": {
      "image/png": "[encoded data removed]",
      "text/plain": [
       "<Figure size 432x288 with 1 Axes>"
      ]
     },
     "metadata": {
      "needs_background": "light"
     },
     "output_type": "display_data"
    }
   ],
   "source": [
    "xd = examine2[examine2['usage_Gallery'] ==1]\n",
    "bar_continous_plot(xd, 'time_Gallery', 'day').sort_values(by='category').plot.bar(x='category', y=['day'])"
   ]
  },
  {
   "cell_type": "code",
   "execution_count": 87,
   "metadata": {
    "colab": {
     "base_uri": "https://localhost:8080/",
     "height": 404
    },
    "id": "P2YgvOKNeeyU",
    "outputId": "36495d30-fb18-4d9e-d391-21e46496b408"
   },
   "outputs": [
    {
     "name": "stderr",
     "output_type": "stream",
     "text": [
      "/usr/local/lib/python3.7/dist-packages/ipykernel_launcher.py:2: SettingWithCopyWarning: \n",
      "A value is trying to be set on a copy of a slice from a DataFrame.\n",
      "Try using .loc[row_indexer,col_indexer] = value instead\n",
      "\n",
      "See the caveats in the documentation: https://pandas.pydata.org/pandas-docs/stable/user_guide/indexing.html#returning-a-view-versus-a-copy\n",
      "  \n"
     ]
    },
    {
     "data": {
      "text/plain": [
       "<matplotlib.axes._subplots.AxesSubplot at 0x7fa2adfcf950>"
      ]
     },
     "execution_count": 87,
     "metadata": {},
     "output_type": "execute_result"
    },
    {
     "data": {
      "image/png": "[encoded data removed]",
      "text/plain": [
       "<Figure size 432x288 with 1 Axes>"
      ]
     },
     "metadata": {
      "needs_background": "light"
     },
     "output_type": "display_data"
    }
   ],
   "source": [
    "bar_continous_plot(xd, 'time_count_Gallery', 'day').sort_values(by='category').plot.bar(x='category', y=['day'])"
   ]
  },
  {
   "cell_type": "code",
   "execution_count": 88,
   "metadata": {
    "colab": {
     "base_uri": "https://localhost:8080/",
     "height": 501
    },
    "id": "LyiOVqdMfuKu",
    "outputId": "6e1f2000-ca9f-4163-b98d-564c94f16782"
   },
   "outputs": [
    {
     "name": "stderr",
     "output_type": "stream",
     "text": [
      "/usr/local/lib/python3.7/dist-packages/ipykernel_launcher.py:2: SettingWithCopyWarning: \n",
      "A value is trying to be set on a copy of a slice from a DataFrame.\n",
      "Try using .loc[row_indexer,col_indexer] = value instead\n",
      "\n",
      "See the caveats in the documentation: https://pandas.pydata.org/pandas-docs/stable/user_guide/indexing.html#returning-a-view-versus-a-copy\n",
      "  \n"
     ]
    },
    {
     "data": {
      "text/plain": [
       "<matplotlib.axes._subplots.AxesSubplot at 0x7fa2adfc4110>"
      ]
     },
     "execution_count": 88,
     "metadata": {},
     "output_type": "execute_result"
    },
    {
     "data": {
      "image/png": "[encoded data removed]",
      "text/plain": [
       "<Figure size 432x288 with 1 Axes>"
      ]
     },
     "metadata": {
      "needs_background": "light"
     },
     "output_type": "display_data"
    }
   ],
   "source": [
    "xd = examine2[examine2['usage_HomePage'] ==1]\n",
    "bar_continous_plot(xd, 'time_HomePage', 'day').sort_values(by='category').plot.bar(x='category', y=['day'])"
   ]
  },
  {
   "cell_type": "code",
   "execution_count": 90,
   "metadata": {
    "colab": {
     "base_uri": "https://localhost:8080/",
     "height": 508
    },
    "id": "quFNCiEefukW",
    "outputId": "6a4116cf-0657-4912-9109-81b1b1898f85"
   },
   "outputs": [
    {
     "name": "stderr",
     "output_type": "stream",
     "text": [
      "/usr/local/lib/python3.7/dist-packages/ipykernel_launcher.py:2: SettingWithCopyWarning: \n",
      "A value is trying to be set on a copy of a slice from a DataFrame.\n",
      "Try using .loc[row_indexer,col_indexer] = value instead\n",
      "\n",
      "See the caveats in the documentation: https://pandas.pydata.org/pandas-docs/stable/user_guide/indexing.html#returning-a-view-versus-a-copy\n",
      "  \n",
      "/usr/local/lib/python3.7/dist-packages/pandas/core/indexing.py:1817: SettingWithCopyWarning: \n",
      "A value is trying to be set on a copy of a slice from a DataFrame.\n",
      "Try using .loc[row_indexer,col_indexer] = value instead\n",
      "\n",
      "See the caveats in the documentation: https://pandas.pydata.org/pandas-docs/stable/user_guide/indexing.html#returning-a-view-versus-a-copy\n",
      "  self._setitem_single_column(loc, value, pi)\n"
     ]
    },
    {
     "data": {
      "text/plain": [
       "<matplotlib.axes._subplots.AxesSubplot at 0x7fa2adecf790>"
      ]
     },
     "execution_count": 90,
     "metadata": {},
     "output_type": "execute_result"
    },
    {
     "data": {
      "image/png": "[encoded data removed]",
      "text/plain": [
       "<Figure size 432x288 with 1 Axes>"
      ]
     },
     "metadata": {
      "needs_background": "light"
     },
     "output_type": "display_data"
    }
   ],
   "source": [
    "bar_continous_plot(xd, 'time_count_HomePage', 'day').plot.bar(x='category', y=['day'])"
   ]
  },
  {
   "cell_type": "code",
   "execution_count": 91,
   "metadata": {
    "colab": {
     "base_uri": "https://localhost:8080/",
     "height": 606
    },
    "id": "9LZIZlZQee94",
    "outputId": "29c44129-8cbf-4950-d392-7d61d71cfc0b"
   },
   "outputs": [
    {
     "name": "stderr",
     "output_type": "stream",
     "text": [
      "/usr/local/lib/python3.7/dist-packages/ipykernel_launcher.py:2: SettingWithCopyWarning: \n",
      "A value is trying to be set on a copy of a slice from a DataFrame.\n",
      "Try using .loc[row_indexer,col_indexer] = value instead\n",
      "\n",
      "See the caveats in the documentation: https://pandas.pydata.org/pandas-docs/stable/user_guide/indexing.html#returning-a-view-versus-a-copy\n",
      "  \n",
      "/usr/local/lib/python3.7/dist-packages/pandas/core/indexing.py:1817: SettingWithCopyWarning: \n",
      "A value is trying to be set on a copy of a slice from a DataFrame.\n",
      "Try using .loc[row_indexer,col_indexer] = value instead\n",
      "\n",
      "See the caveats in the documentation: https://pandas.pydata.org/pandas-docs/stable/user_guide/indexing.html#returning-a-view-versus-a-copy\n",
      "  self._setitem_single_column(loc, value, pi)\n"
     ]
    },
    {
     "data": {
      "text/plain": [
       "<matplotlib.axes._subplots.AxesSubplot at 0x7fa2adebb4d0>"
      ]
     },
     "execution_count": 91,
     "metadata": {},
     "output_type": "execute_result"
    },
    {
     "data": {
      "image/png": "[encoded data removed]",
      "text/plain": [
       "<Figure size 432x288 with 1 Axes>"
      ]
     },
     "metadata": {
      "needs_background": "light"
     },
     "output_type": "display_data"
    }
   ],
   "source": [
    "xd = examine2[examine2['usage_Timeline'] ==1]\n",
    "bar_continous_plot(xd, 'time_Timeline', 'day').sort_values(by='category').plot.bar(x='category', y=['day'])"
   ]
  },
  {
   "cell_type": "code",
   "execution_count": 96,
   "metadata": {
    "colab": {
     "base_uri": "https://localhost:8080/",
     "height": 508
    },
    "id": "Z2jcNEmuawLF",
    "outputId": "4d6f43b7-821d-438e-dfa3-066ef1465326"
   },
   "outputs": [
    {
     "name": "stderr",
     "output_type": "stream",
     "text": [
      "/usr/local/lib/python3.7/dist-packages/ipykernel_launcher.py:2: SettingWithCopyWarning: \n",
      "A value is trying to be set on a copy of a slice from a DataFrame.\n",
      "Try using .loc[row_indexer,col_indexer] = value instead\n",
      "\n",
      "See the caveats in the documentation: https://pandas.pydata.org/pandas-docs/stable/user_guide/indexing.html#returning-a-view-versus-a-copy\n",
      "  \n",
      "/usr/local/lib/python3.7/dist-packages/pandas/core/indexing.py:1817: SettingWithCopyWarning: \n",
      "A value is trying to be set on a copy of a slice from a DataFrame.\n",
      "Try using .loc[row_indexer,col_indexer] = value instead\n",
      "\n",
      "See the caveats in the documentation: https://pandas.pydata.org/pandas-docs/stable/user_guide/indexing.html#returning-a-view-versus-a-copy\n",
      "  self._setitem_single_column(loc, value, pi)\n"
     ]
    },
    {
     "data": {
      "text/plain": [
       "<matplotlib.axes._subplots.AxesSubplot at 0x7fa2add69750>"
      ]
     },
     "execution_count": 96,
     "metadata": {},
     "output_type": "execute_result"
    },
    {
     "data": {
      "image/png": "[encoded data removed]",
      "text/plain": [
       "<Figure size 432x288 with 1 Axes>"
      ]
     },
     "metadata": {
      "needs_background": "light"
     },
     "output_type": "display_data"
    }
   ],
   "source": [
    "bar_continous_plot(xd, 'time_count_Timeline', 'day').plot.bar(x='category', y=['day'])"
   ]
  },
  {
   "cell_type": "code",
   "execution_count": 93,
   "metadata": {
    "colab": {
     "base_uri": "https://localhost:8080/",
     "height": 423
    },
    "id": "c62DuAj9f2i_",
    "outputId": "f3632282-eaf4-4434-f3ad-fa2b4e3a7c3d"
   },
   "outputs": [
    {
     "name": "stderr",
     "output_type": "stream",
     "text": [
      "/usr/local/lib/python3.7/dist-packages/ipykernel_launcher.py:2: SettingWithCopyWarning: \n",
      "A value is trying to be set on a copy of a slice from a DataFrame.\n",
      "Try using .loc[row_indexer,col_indexer] = value instead\n",
      "\n",
      "See the caveats in the documentation: https://pandas.pydata.org/pandas-docs/stable/user_guide/indexing.html#returning-a-view-versus-a-copy\n",
      "  \n"
     ]
    },
    {
     "data": {
      "text/plain": [
       "<matplotlib.axes._subplots.AxesSubplot at 0x7fa2addc8910>"
      ]
     },
     "execution_count": 93,
     "metadata": {},
     "output_type": "execute_result"
    },
    {
     "data": {
      "image/png": "[encoded data removed]",
      "text/plain": [
       "<Figure size 432x288 with 1 Axes>"
      ]
     },
     "metadata": {
      "needs_background": "light"
     },
     "output_type": "display_data"
    }
   ],
   "source": [
    "xd = examine2[examine2['usage_Tink'] ==1]\n",
    "bar_continous_plot(xd, 'time_Tink', 'day').sort_values(by='category').plot.bar(x='category', y=['day'])"
   ]
  },
  {
   "cell_type": "code",
   "execution_count": 97,
   "metadata": {
    "colab": {
     "base_uri": "https://localhost:8080/",
     "height": 502
    },
    "id": "xPUeOUW5f2m5",
    "outputId": "dbcdc97f-742b-4580-b45a-43cb5e1c14ae"
   },
   "outputs": [
    {
     "name": "stderr",
     "output_type": "stream",
     "text": [
      "/usr/local/lib/python3.7/dist-packages/ipykernel_launcher.py:2: SettingWithCopyWarning: \n",
      "A value is trying to be set on a copy of a slice from a DataFrame.\n",
      "Try using .loc[row_indexer,col_indexer] = value instead\n",
      "\n",
      "See the caveats in the documentation: https://pandas.pydata.org/pandas-docs/stable/user_guide/indexing.html#returning-a-view-versus-a-copy\n",
      "  \n",
      "/usr/local/lib/python3.7/dist-packages/pandas/core/indexing.py:1817: SettingWithCopyWarning: \n",
      "A value is trying to be set on a copy of a slice from a DataFrame.\n",
      "Try using .loc[row_indexer,col_indexer] = value instead\n",
      "\n",
      "See the caveats in the documentation: https://pandas.pydata.org/pandas-docs/stable/user_guide/indexing.html#returning-a-view-versus-a-copy\n",
      "  self._setitem_single_column(loc, value, pi)\n"
     ]
    },
    {
     "data": {
      "text/plain": [
       "<matplotlib.axes._subplots.AxesSubplot at 0x7fa2adc05bd0>"
      ]
     },
     "execution_count": 97,
     "metadata": {},
     "output_type": "execute_result"
    },
    {
     "data": {
      "image/png": "[encoded data removed]",
      "text/plain": [
       "<Figure size 432x288 with 1 Axes>"
      ]
     },
     "metadata": {
      "needs_background": "light"
     },
     "output_type": "display_data"
    }
   ],
   "source": [
    "bar_continous_plot(xd, 'time_count_Tink', 'day').plot.bar(x='category', y=['day'])"
   ]
  },
  {
   "cell_type": "code",
   "execution_count": 98,
   "metadata": {
    "colab": {
     "base_uri": "https://localhost:8080/",
     "height": 501
    },
    "id": "aklJOWrkf7Vx",
    "outputId": "b196d6f6-5160-4193-8b46-406946bccdf4"
   },
   "outputs": [
    {
     "name": "stderr",
     "output_type": "stream",
     "text": [
      "/usr/local/lib/python3.7/dist-packages/ipykernel_launcher.py:2: SettingWithCopyWarning: \n",
      "A value is trying to be set on a copy of a slice from a DataFrame.\n",
      "Try using .loc[row_indexer,col_indexer] = value instead\n",
      "\n",
      "See the caveats in the documentation: https://pandas.pydata.org/pandas-docs/stable/user_guide/indexing.html#returning-a-view-versus-a-copy\n",
      "  \n"
     ]
    },
    {
     "data": {
      "text/plain": [
       "<matplotlib.axes._subplots.AxesSubplot at 0x7fa2adbfae50>"
      ]
     },
     "execution_count": 98,
     "metadata": {},
     "output_type": "execute_result"
    },
    {
     "data": {
      "image/png": "[encoded data removed]",
      "text/plain": [
       "<Figure size 432x288 with 1 Axes>"
      ]
     },
     "metadata": {
      "needs_background": "light"
     },
     "output_type": "display_data"
    }
   ],
   "source": [
    "xd = examine2[examine2['usage_Map'] ==1]\n",
    "bar_continous_plot(xd, 'time_Map', 'day').sort_values(by='category').plot.bar(x='category', y=['day'])"
   ]
  },
  {
   "cell_type": "code",
   "execution_count": 99,
   "metadata": {
    "colab": {
     "base_uri": "https://localhost:8080/",
     "height": 508
    },
    "id": "bggCoot9f7ei",
    "outputId": "484b5d92-375c-4390-f9b6-62e664c8a5ff"
   },
   "outputs": [
    {
     "name": "stderr",
     "output_type": "stream",
     "text": [
      "/usr/local/lib/python3.7/dist-packages/ipykernel_launcher.py:2: SettingWithCopyWarning: \n",
      "A value is trying to be set on a copy of a slice from a DataFrame.\n",
      "Try using .loc[row_indexer,col_indexer] = value instead\n",
      "\n",
      "See the caveats in the documentation: https://pandas.pydata.org/pandas-docs/stable/user_guide/indexing.html#returning-a-view-versus-a-copy\n",
      "  \n",
      "/usr/local/lib/python3.7/dist-packages/pandas/core/indexing.py:1817: SettingWithCopyWarning: \n",
      "A value is trying to be set on a copy of a slice from a DataFrame.\n",
      "Try using .loc[row_indexer,col_indexer] = value instead\n",
      "\n",
      "See the caveats in the documentation: https://pandas.pydata.org/pandas-docs/stable/user_guide/indexing.html#returning-a-view-versus-a-copy\n",
      "  self._setitem_single_column(loc, value, pi)\n"
     ]
    },
    {
     "data": {
      "text/plain": [
       "<matplotlib.axes._subplots.AxesSubplot at 0x7fa2adafecd0>"
      ]
     },
     "execution_count": 99,
     "metadata": {},
     "output_type": "execute_result"
    },
    {
     "data": {
      "image/png": "[encoded data removed]",
      "text/plain": [
       "<Figure size 432x288 with 1 Axes>"
      ]
     },
     "metadata": {
      "needs_background": "light"
     },
     "output_type": "display_data"
    }
   ],
   "source": [
    "bar_continous_plot(xd, 'time_count_Map', 'day').plot.bar(x='category', y=['day'])"
   ]
  },
  {
   "cell_type": "code",
   "execution_count": 100,
   "metadata": {
    "colab": {
     "base_uri": "https://localhost:8080/",
     "height": 501
    },
    "id": "olpXi881gDGt",
    "outputId": "b0dcdab0-dc30-4d00-fd94-3883167a2be4"
   },
   "outputs": [
    {
     "name": "stderr",
     "output_type": "stream",
     "text": [
      "/usr/local/lib/python3.7/dist-packages/ipykernel_launcher.py:2: SettingWithCopyWarning: \n",
      "A value is trying to be set on a copy of a slice from a DataFrame.\n",
      "Try using .loc[row_indexer,col_indexer] = value instead\n",
      "\n",
      "See the caveats in the documentation: https://pandas.pydata.org/pandas-docs/stable/user_guide/indexing.html#returning-a-view-versus-a-copy\n",
      "  \n"
     ]
    },
    {
     "data": {
      "text/plain": [
       "<matplotlib.axes._subplots.AxesSubplot at 0x7fa2adaa1090>"
      ]
     },
     "execution_count": 100,
     "metadata": {},
     "output_type": "execute_result"
    },
    {
     "data": {
      "image/png": "[encoded data removed]",
      "text/plain": [
       "<Figure size 432x288 with 1 Axes>"
      ]
     },
     "metadata": {
      "needs_background": "light"
     },
     "output_type": "display_data"
    }
   ],
   "source": [
    "xd = examine2[examine2['usage_Note'] ==1]\n",
    "bar_continous_plot(xd, 'time_Note', 'day').sort_values(by='category').plot.bar(x='category', y=['day'])"
   ]
  },
  {
   "cell_type": "code",
   "execution_count": 102,
   "metadata": {
    "colab": {
     "base_uri": "https://localhost:8080/",
     "height": 399
    },
    "id": "2kV5x6dJgDKY",
    "outputId": "ac7ec56a-fea6-4f2d-b9fa-bc48efdaf361"
   },
   "outputs": [
    {
     "name": "stderr",
     "output_type": "stream",
     "text": [
      "/usr/local/lib/python3.7/dist-packages/ipykernel_launcher.py:2: SettingWithCopyWarning: \n",
      "A value is trying to be set on a copy of a slice from a DataFrame.\n",
      "Try using .loc[row_indexer,col_indexer] = value instead\n",
      "\n",
      "See the caveats in the documentation: https://pandas.pydata.org/pandas-docs/stable/user_guide/indexing.html#returning-a-view-versus-a-copy\n",
      "  \n"
     ]
    },
    {
     "data": {
      "text/plain": [
       "<matplotlib.axes._subplots.AxesSubplot at 0x7fa2ada2bf90>"
      ]
     },
     "execution_count": 102,
     "metadata": {},
     "output_type": "execute_result"
    },
    {
     "data": {
      "image/png": "[encoded data removed]",
      "text/plain": [
       "<Figure size 432x288 with 1 Axes>"
      ]
     },
     "metadata": {
      "needs_background": "light"
     },
     "output_type": "display_data"
    }
   ],
   "source": [
    "bar_continous_plot(xd, 'time_count_Note', 'day').plot.bar(x='category', y=['day'])"
   ]
  },
  {
   "cell_type": "markdown",
   "metadata": {
    "id": "4Yz8JOuzrFjW"
   },
   "source": [
    "This feature, Note, does not experience similar graph as the other features. It seems that the exploration of this features does not significantly increase the duration of staying. The feature should be re-designed."
   ]
  },
  {
   "cell_type": "code",
   "execution_count": 104,
   "metadata": {
    "colab": {
     "base_uri": "https://localhost:8080/",
     "height": 501
    },
    "id": "CoNGLjOAgDU1",
    "outputId": "2530fcef-b4ed-48bc-a767-893c2df71458"
   },
   "outputs": [
    {
     "name": "stderr",
     "output_type": "stream",
     "text": [
      "/usr/local/lib/python3.7/dist-packages/ipykernel_launcher.py:2: SettingWithCopyWarning: \n",
      "A value is trying to be set on a copy of a slice from a DataFrame.\n",
      "Try using .loc[row_indexer,col_indexer] = value instead\n",
      "\n",
      "See the caveats in the documentation: https://pandas.pydata.org/pandas-docs/stable/user_guide/indexing.html#returning-a-view-versus-a-copy\n",
      "  \n"
     ]
    },
    {
     "data": {
      "text/plain": [
       "<matplotlib.axes._subplots.AxesSubplot at 0x7fa2ad975810>"
      ]
     },
     "execution_count": 104,
     "metadata": {},
     "output_type": "execute_result"
    },
    {
     "data": {
      "image/png": "[encoded data removed]",
      "text/plain": [
       "<Figure size 432x288 with 1 Axes>"
      ]
     },
     "metadata": {
      "needs_background": "light"
     },
     "output_type": "display_data"
    }
   ],
   "source": [
    "xd = examine2[examine2['usage_Voice'] ==1]\n",
    "bar_continous_plot(xd, 'time_Voice', 'day').sort_values(by='category').plot.bar(x='category', y=['day'])"
   ]
  },
  {
   "cell_type": "code",
   "execution_count": 105,
   "metadata": {
    "colab": {
     "base_uri": "https://localhost:8080/",
     "height": 399
    },
    "id": "S-tAtxI1gDdC",
    "outputId": "a2143ad1-fb13-4db3-c368-c0e616f739d8"
   },
   "outputs": [
    {
     "name": "stderr",
     "output_type": "stream",
     "text": [
      "/usr/local/lib/python3.7/dist-packages/ipykernel_launcher.py:2: SettingWithCopyWarning: \n",
      "A value is trying to be set on a copy of a slice from a DataFrame.\n",
      "Try using .loc[row_indexer,col_indexer] = value instead\n",
      "\n",
      "See the caveats in the documentation: https://pandas.pydata.org/pandas-docs/stable/user_guide/indexing.html#returning-a-view-versus-a-copy\n",
      "  \n"
     ]
    },
    {
     "data": {
      "text/plain": [
       "<matplotlib.axes._subplots.AxesSubplot at 0x7fa2ad883150>"
      ]
     },
     "execution_count": 105,
     "metadata": {},
     "output_type": "execute_result"
    },
    {
     "data": {
      "image/png": "[encoded data removed]",
      "text/plain": [
       "<Figure size 432x288 with 1 Axes>"
      ]
     },
     "metadata": {
      "needs_background": "light"
     },
     "output_type": "display_data"
    }
   ],
   "source": [
    "bar_continous_plot(xd, 'time_count_Voice', 'day').plot.bar(x='category', y=['day'])"
   ]
  },
  {
   "cell_type": "markdown",
   "metadata": {
    "id": "cB4c9wfOqGek"
   },
   "source": [
    "Overall, we see a trend in all the features, which is a high number of users with nearly 0 usage of the features, yet still achieve long duration of staying in the app. This phenomenon can be due to other features, or some factors the visualizations have not discovered. Then, the duration of staying in the app increases as the exploration increases in both times and interactions, except a few cases, which are explained above.\n",
    "\n",
    "\n",
    "\n"
   ]
  }
 ],
 "metadata": {
  "colab": {
   "collapsed_sections": [],
   "provenance": []
  },
  "kernelspec": {
   "display_name": "Python 3",
   "language": "python",
   "name": "python3"
  },
  "language_info": {
   "codemirror_mode": {
    "name": "ipython",
    "version": 3
   },
   "file_extension": ".py",
   "mimetype": "text/x-python",
   "name": "python",
   "nbconvert_exporter": "python",
   "pygments_lexer": "ipython3",
   "version": "3.8.8"
  }
 },
 "nbformat": 4,
 "nbformat_minor": 1
}
